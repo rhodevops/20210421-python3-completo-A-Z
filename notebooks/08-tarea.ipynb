{
  "cells": [
    {
      "cell_type": "markdown",
      "metadata": {
        "id": "gp1d5MqrHYHb"
      },
      "source": [
        "# Reclutando tripulantes\n",
        "\n",
        "Pyratilla considera que ya va siendo hora de encontrar a su primer miembro de la tripulación. Para ello, lo primero que decide hacer es un anuncio."
      ]
    },
    {
      "cell_type": "code",
      "execution_count": 2,
      "metadata": {
        "id": "ElrNTAgjHU1w"
      },
      "outputs": [],
      "source": [
        "title = \"se busca tripulante\"\n",
        "message = \"se ofrece puesto en la tripulación del capitán pyratilla para llevar a cabo labores de marinero. comida y bebida garantizada a lo largo de toda la aventura.\"\n",
        "contact = \"para más información, ir al puerto y buscar al capitán pyratilla, ya famoso en este pueblo costero (evitar preguntar en el casino).\""
      ]
    },
    {
      "cell_type": "markdown",
      "metadata": {
        "id": "PqXAkMAPI5Ra"
      },
      "source": [
        "Ayuda a Pyratilla a que el anuncio le quede bien:\n",
        "\n",
        "- El título debe estar todo en mayúsculas\n",
        "- El principio de cada frase debe estar en mayúscula\n",
        "- Cada vez que hay un cambio de variable, debe haber un salto de línea\n",
        "- El nombre de Pyratilla debe estar en mayúscula\n",
        "\n",
        "Pista: puede que te sea más fácil si guardas las dos frases de la variable `message` en dos variables diferentes y una vez las tengas listas, las vuelves a unir."
      ]
    },
    {
      "cell_type": "code",
      "execution_count": 3,
      "metadata": {
        "id": "B7bhMPpSJY0V"
      },
      "outputs": [
        {
          "name": "stdout",
          "output_type": "stream",
          "text": [
            "SE BUSCA TRIPULANTE\n",
            "Se ofrece puesto en la tripulación del capitán Pyratilla para llevar a cabo labores de marinero.\n",
            "Comida y bebida garantizada a lo largo de toda la aventura.\n",
            "Para más información, ir al puerto y buscar al capitán Pyratilla, ya famoso en este pueblo costero (evitar preguntar en el casino).\n"
          ]
        }
      ],
      "source": [
        "d = message.find(\".\")\n",
        "message1 = message[:d+1].capitalize()\n",
        "message2 = message[d+2:].capitalize()\n",
        "advertisement = title.upper() + \"\\n\" + message1 + \"\\n\" + message2 + \"\\n\" + contact.capitalize()\n",
        "advertisement = advertisement.replace(\"pyratilla\", \"Pyratilla\")\n",
        "\n",
        "print(advertisement)"
      ]
    },
    {
      "cell_type": "markdown",
      "metadata": {
        "id": "bWD5cnUtL6NB"
      },
      "source": [
        "## El formulario para los interesados en el anuncio\n",
        "\n",
        "Para evitar hacer entrevistas innecesarias, Pyratilla decide hacer un formulario para que cualquier interesado lo rellene y si pasa esa prueba, entonces le realizará una entrevista.\n",
        "\n",
        "Ayuda a Pyratilla a crear un formulario donde se pida amablemente el nombre, la edad, el hobby y el sueño al interesado en formar parte de la tripulación del capitán Pyratilla."
      ]
    },
    {
      "cell_type": "code",
      "execution_count": 4,
      "metadata": {
        "id": "t_68axrQL8Yj"
      },
      "outputs": [
        {
          "name": "stdout",
          "output_type": "stream",
          "text": [
            "Introduce tu nombre:\n"
          ]
        }
      ],
      "source": [
        "print(\"Introduce tu nombre:\")\n",
        "nombre = input(\"Nombre: \")"
      ]
    },
    {
      "cell_type": "code",
      "execution_count": 5,
      "metadata": {
        "id": "QjSJuMcxNJW5"
      },
      "outputs": [
        {
          "name": "stdout",
          "output_type": "stream",
          "text": [
            "Introduce tu edad:\n"
          ]
        }
      ],
      "source": [
        "print(\"Introduce tu edad:\")\n",
        "edad = input(\"Edad: \")"
      ]
    },
    {
      "cell_type": "code",
      "execution_count": 6,
      "metadata": {
        "id": "D7zMht_FNUQH"
      },
      "outputs": [
        {
          "name": "stdout",
          "output_type": "stream",
          "text": [
            "¿cual es tu hobby favorito?\n"
          ]
        }
      ],
      "source": [
        "print(\"¿cual es tu hobby favorito?\")\n",
        "hobby = input(\"Hobby: \")"
      ]
    },
    {
      "cell_type": "code",
      "execution_count": 7,
      "metadata": {
        "id": "GTyVOiWZNa-3"
      },
      "outputs": [
        {
          "name": "stdout",
          "output_type": "stream",
          "text": [
            "¿Cuál es tu sueño?:\n"
          ]
        }
      ],
      "source": [
        "print(\"¿Cuál es tu sueño?:\")\n",
        "sueño = input(\"Sueño: \")"
      ]
    },
    {
      "cell_type": "code",
      "execution_count": 8,
      "metadata": {},
      "outputs": [
        {
          "name": "stdout",
          "output_type": "stream",
          "text": [
            "Nombre: Berto\n",
            "Edad: 45\n",
            "Hobby: Salir en la tele\n",
            "Sueño: Hacer reir a la gente\n"
          ]
        }
      ],
      "source": [
        "print(\"Nombre: \" + nombre + \"\\n\" + \"Edad: \" + edad + \"\\n\" + \"Hobby: \" + hobby + \"\\n\" + \"Sueño: \" + sueño)"
      ]
    }
  ],
  "metadata": {
    "colab": {
      "collapsed_sections": [],
      "name": "03-entrada.ipynb",
      "provenance": []
    },
    "kernelspec": {
      "display_name": "Python 3",
      "name": "python3"
    },
    "language_info": {
      "codemirror_mode": {
        "name": "ipython",
        "version": 3
      },
      "file_extension": ".py",
      "mimetype": "text/x-python",
      "name": "python",
      "nbconvert_exporter": "python",
      "pygments_lexer": "ipython3",
      "version": "3.8.5"
    }
  },
  "nbformat": 4,
  "nbformat_minor": 0
}
