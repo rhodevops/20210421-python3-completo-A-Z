{
  "cells": [
    {
      "cell_type": "markdown",
      "metadata": {
        "id": "DNWW648JpBZM"
      },
      "source": [
        "# Operadores de iteración"
      ]
    },
    {
      "cell_type": "markdown",
      "metadata": {
        "id": "BdmMeTHJpD_d"
      },
      "source": [
        "## El bucle `while`\n",
        "\n",
        "La idea del bucle `while` es: mientras la condición sea cierta, seguimos realizando las líneas del interior del bucle. Una vez la condición deja de ser verdadera, salimos del bucle.\n",
        "\n",
        "Su estructura es la siguiente"
      ]
    },
    {
      "cell_type": "code",
      "execution_count": null,
      "metadata": {
        "id": "D4Oz2wqpo-Bi"
      },
      "outputs": [],
      "source": [
        "inicialización de la variable de la condición\n",
        "while condición verdadera:\n",
        "  instrucción 1\n",
        "  instrucción 2\n",
        "  .\n",
        "  .\n",
        "  .\n",
        "  instrucción n"
      ]
    },
    {
      "cell_type": "markdown",
      "metadata": {
        "id": "FGKPoOn2tInA"
      },
      "source": [
        "**Observación.** Vuelven a aparecer tanto los dos puntos después de la condición como la indentación previa a las instrucciones que se encuentran dentro del bucle.\n",
        "\n",
        "**¡Cuidado!** Hay que tener en cuenta que alguna de las instrucciones que se encuentran dentro del bucle `while` tiene que modificar a la variable de la condición. De lo contrario, si la variable de la condición nunca es modificada, la condición nunca llegará a ser falsa y el bucle no acabaría nunca, con lo que pasaría a convertirse en lo que se denomina bucle infinito.\n",
        "\n",
        "Una de las utilidades de un bucle `while` es evitar el copia y pega de algunas funciones. Por ejemplo, si queremos impirmir los primeros 10 números naturales, en vez de copiar 10 veces la función `print()`, una para cada número, lo podemos hacer todo con un bucle `while`:"
      ]
    },
    {
      "cell_type": "code",
      "execution_count": 2,
      "metadata": {
        "colab": {
          "base_uri": "https://localhost:8080/"
        },
        "id": "XZ3xpUkdtQiI",
        "outputId": "2809a0a2-08af-47cc-de97-08b00cfb7e8f"
      },
      "outputs": [
        {
          "name": "stdout",
          "output_type": "stream",
          "text": [
            "1\n",
            "2\n",
            "3\n",
            "4\n",
            "5\n"
          ]
        }
      ],
      "source": [
        "i = 1 # Inicializamos la variable\n",
        "while i <= 5: # Queremos que i como mucho valga 10\n",
        "  print(i) # Imprimimos los números\n",
        "  i += 1 # Incrementamos una unidad en cada iteración"
      ]
    },
    {
      "cell_type": "markdown",
      "metadata": {
        "id": "olI-tFdMtqi4"
      },
      "source": [
        "### Comando `break`\n",
        "\n",
        "`break` es muy útil si dada una condición queremos que se salga inmediatamente de un bucle `while`. Veámoslo con un ejemplo:\n",
        "\n",
        "\n"
      ]
    },
    {
      "cell_type": "markdown",
      "metadata": {
        "id": "WiRy4iHQEBXf"
      },
      "source": [
        "---\n",
        "\n",
        "#### Ejemplo 1\n",
        "\n",
        "La sucesión de Fibonacci es una sucesión infinita que se caracteriza porque cada término es la suma de los dos anteriores. Algunos de sus términos son 1, 1, 2, 3, 5, 8, 13...\n",
        "\n",
        "Supongamos que queremos que se nos impriman los 20 primeros términos de esta serie. Por tanto, necesitaremos por un lado los términos de la serie y, por otro, los índices que ocupan.\n",
        "\n",
        "**Ejercicio.** Pensad en cómo podríais resolver este problema en el cual se exige que en algún momento utilicéis el comando `break`."
      ]
    },
    {
      "cell_type": "code",
      "execution_count": 6,
      "metadata": {
        "colab": {
          "base_uri": "https://localhost:8080/"
        },
        "id": "7B64OKePufqd",
        "outputId": "1d8b99bd-3a84-4b3b-ac40-fbeed1182cf1"
      },
      "outputs": [
        {
          "name": "stdout",
          "output_type": "stream",
          "text": [
            "El término 1 ocupa la posición 1\n",
            "El término 1 ocupa la posición 2\n",
            "El término 2 ocupa la posición 3\n",
            "El término 3 ocupa la posición 4\n",
            "El término 5 ocupa la posición 5\n",
            "El término 8 ocupa la posición 6\n",
            "El término 13 ocupa la posición 7\n",
            "El término 21 ocupa la posición 8\n",
            "El término 34 ocupa la posición 9\n",
            "El término 55 ocupa la posición 10\n",
            "El término 89 ocupa la posición 11\n",
            "El término 144 ocupa la posición 12\n",
            "El término 233 ocupa la posición 13\n",
            "El término 377 ocupa la posición 14\n",
            "El término 610 ocupa la posición 15\n",
            "El término 987 ocupa la posición 16\n",
            "El término 1597 ocupa la posición 17\n",
            "El término 2584 ocupa la posición 18\n",
            "El término 4181 ocupa la posición 19\n",
            "El término 6765 ocupa la posición 20\n"
          ]
        }
      ],
      "source": [
        "fibo_ant = 1 # Término anterior\n",
        "fibo = 1 # Término actual\n",
        "idx = 3 # Como ya tenemos los dos primeros términos, empezamos con el índice 3\n",
        "\n",
        "print(\"El término {} ocupa la posición {}\".format(fibo_ant, 1))\n",
        "print(\"El término {} ocupa la posición {}\".format(fibo, 2))\n",
        "\n",
        "while fibo <= 500000: # Establecemos una cota para que el bucle no sea infinito\n",
        "  temp = fibo  # Guardamos temporalmente el fibonacci actual \n",
        "  fibo = fibo + fibo_ant  # Calculamos el nuevo término de la sucesión\n",
        "  fibo_ant = temp # Modicamos el valor del término anterior\n",
        "  \n",
        "  print(\"El término {} ocupa la posición {}\".format(fibo, idx))\n",
        "  \n",
        "  if idx == 20: # Si llegamos al vigésimo índice, \n",
        "    break       # salimos del bucle\n",
        "  \n",
        "  idx += 1 # Incrementamos el valor del índice"
      ]
    },
    {
      "cell_type": "markdown",
      "metadata": {
        "id": "0WJ31N5ou5V7"
      },
      "source": [
        "**Ejercicio.** El ejemplo anterior se podría haber hecho perfectamente sin necesidad de utilizar la función `break`. Pensad en cómo modificaríais el código anterior para obtener el mismo resultado únicamente haciendo uso de un bucle `while`.\n",
        "\n",
        "---\n",
        "\n"
      ]
    },
    {
      "cell_type": "code",
      "execution_count": 7,
      "metadata": {},
      "outputs": [
        {
          "name": "stdout",
          "output_type": "stream",
          "text": [
            "El término 1 ocupa la posición 1\n",
            "El término 1 ocupa la posición 2\n",
            "El término 2 ocupa la posición 3\n",
            "El término 3 ocupa la posición 4\n",
            "El término 5 ocupa la posición 5\n",
            "El término 8 ocupa la posición 6\n",
            "El término 13 ocupa la posición 7\n",
            "El término 21 ocupa la posición 8\n",
            "El término 34 ocupa la posición 9\n",
            "El término 55 ocupa la posición 10\n",
            "El término 89 ocupa la posición 11\n",
            "El término 144 ocupa la posición 12\n",
            "El término 233 ocupa la posición 13\n",
            "El término 377 ocupa la posición 14\n",
            "El término 610 ocupa la posición 15\n",
            "El término 987 ocupa la posición 16\n",
            "El término 1597 ocupa la posición 17\n",
            "El término 2584 ocupa la posición 18\n",
            "El término 4181 ocupa la posición 19\n",
            "El término 6765 ocupa la posición 20\n"
          ]
        }
      ],
      "source": [
        "fibo_ant = 1 \n",
        "fibo = 1 \n",
        "idx = 3 \n",
        "print(\"El término {} ocupa la posición {}\".format(fibo_ant, 1))\n",
        "print(\"El término {} ocupa la posición {}\".format(fibo, 2))\n",
        "\n",
        "while idx <= 20: \n",
        "  temp = fibo  \n",
        "  fibo = fibo + fibo_ant  \n",
        "  fibo_ant = temp \n",
        "\n",
        "  print(\"El término {} ocupa la posición {}\".format(fibo, idx))\n",
        "  idx += 1 # Incrementamos el valor del índice"
      ]
    },
    {
      "cell_type": "markdown",
      "metadata": {
        "id": "iGKR_-fjEDmM"
      },
      "source": [
        "### Combinación `while ... else`\n",
        "\n",
        "Podemos combinar un bucle `while` con el operador `else` para ejecutar un bloque de código una vez la condición del `while` haya dejado de ser verdadera."
      ]
    },
    {
      "cell_type": "code",
      "execution_count": 8,
      "metadata": {
        "colab": {
          "base_uri": "https://localhost:8080/"
        },
        "id": "R-xActcRGgwV",
        "outputId": "bdc150e5-fa0a-4683-96d7-c4ae066ebebe"
      },
      "outputs": [
        {
          "name": "stdout",
          "output_type": "stream",
          "text": [
            "Preparados para despegue. Empieza la cuenta atrás.\n",
            "10\n",
            "9\n",
            "8\n",
            "7\n",
            "6\n",
            "5\n",
            "4\n",
            "3\n",
            "2\n",
            "1\n",
            "0\n",
            "La cuenta atrás ha finalizado.\n"
          ]
        }
      ],
      "source": [
        "i = 10\n",
        "print(\"Preparados para despegue. Empieza la cuenta atrás.\")\n",
        "while i >= 0:\n",
        "  print(i)\n",
        "  i -= 1\n",
        "else:\n",
        "  print(\"La cuenta atrás ha finalizado.\")"
      ]
    },
    {
      "cell_type": "markdown",
      "metadata": {
        "id": "bpgqA5xSGRCb"
      },
      "source": [
        "## Bucle `for`\n",
        "\n",
        "La idea del bucle `for` es: para todos los elementos de la clave, seguimos realizando las líneas del bucle. Una vez nos quedemos sin elementos, salimos del bucle.\n",
        "\n",
        "Su estructura es la siguiente"
      ]
    },
    {
      "cell_type": "code",
      "execution_count": null,
      "metadata": {
        "id": "4EPDz43OvQ6S"
      },
      "outputs": [],
      "source": [
        "for clave:\n",
        "  instrucción 1\n",
        "  instrucción 2\n",
        "  .\n",
        "  .\n",
        "  .\n",
        "  instrucción n"
      ]
    },
    {
      "cell_type": "markdown",
      "metadata": {
        "id": "j2d3NxJF2Z_Z"
      },
      "source": [
        "**Observación.** Vuelven a aparecer tanto los dos puntos después de la clave como la indentación previa a las instrucciones que se encuentran dentro del bucle.\n",
        "\n",
        "Un ejemplo del uso de un bucle `for` es el de recorrer todos los caracteres de un string:"
      ]
    },
    {
      "cell_type": "code",
      "execution_count": 9,
      "metadata": {
        "colab": {
          "base_uri": "https://localhost:8080/"
        },
        "id": "X3jn36ve2lUg",
        "outputId": "eff2fc8c-36ef-4918-f8b3-da3379ed11ba"
      },
      "outputs": [
        {
          "name": "stdout",
          "output_type": "stream",
          "text": [
            "M\n",
            "e\n",
            " \n",
            "g\n",
            "u\n",
            "s\n",
            "t\n",
            "a\n",
            "n\n",
            " \n",
            "l\n",
            "a\n",
            "s\n",
            " \n",
            "m\n",
            "a\n",
            "t\n",
            "e\n",
            "m\n",
            "á\n",
            "t\n",
            "i\n",
            "c\n",
            "a\n",
            "s\n"
          ]
        }
      ],
      "source": [
        "s = \"Me gustan las matemáticas\"\n",
        "\n",
        "for c in s:\n",
        "  print(c)"
      ]
    },
    {
      "cell_type": "markdown",
      "metadata": {
        "id": "oSYhmk6a2ua6"
      },
      "source": [
        "Lo que hace el anterior chunk de código es imprimir todos y cada uno de los caracteres, a los que identificamos por `c`, que se encuentran en el string `s`.\n",
        "\n"
      ]
    },
    {
      "cell_type": "markdown",
      "metadata": {
        "id": "P3LqrB9mEG6q"
      },
      "source": [
        "### Función `range()`\n",
        "\n",
        "La función `range()` tiene 3 posibles argumentos: \n",
        " \n",
        " - `start` \n",
        " - `stop` \n",
        " - `step`\n",
        "\n",
        "Veremos el uso de la función `range()` con un ejemplo. Recuperemos el ejemplo en que queríamos imprimir los 10 primeros números naturales:"
      ]
    },
    {
      "cell_type": "code",
      "execution_count": 17,
      "metadata": {
        "colab": {
          "base_uri": "https://localhost:8080/"
        },
        "id": "fN50QCHx_pVO",
        "outputId": "a15b20f7-f3d0-447a-ba46-faee497a3a83"
      },
      "outputs": [
        {
          "name": "stdout",
          "output_type": "stream",
          "text": [
            "1\n",
            "3\n",
            "5\n"
          ]
        }
      ],
      "source": [
        "for i in range(1,6,2):\n",
        "  print(i)"
      ]
    },
    {
      "cell_type": "code",
      "execution_count": 10,
      "metadata": {
        "colab": {
          "base_uri": "https://localhost:8080/"
        },
        "id": "Jo41eBsW54D9",
        "outputId": "f7a8e7c5-6b42-433e-dfeb-1b6dea0be302"
      },
      "outputs": [
        {
          "name": "stdout",
          "output_type": "stream",
          "text": [
            "0\n",
            "1\n",
            "2\n",
            "3\n",
            "4\n"
          ]
        }
      ],
      "source": [
        "for x in range(5):\n",
        "    print(x)"
      ]
    },
    {
      "cell_type": "markdown",
      "metadata": {
        "id": "WY31f88E_rEJ"
      },
      "source": [
        "**Observación.** Cosas a tener en cuenta cuando usamos la función `range()`:\n",
        "\n",
        "- El elemento indicado en el argumento `stop` nunca se incluye.\n",
        "- Si no indicamos ningún elemento en el argumento `start`, por defecto éste vale 0.\n",
        "- El valor por defecto del argumento `step` es 1.\n",
        "\n",
        "\n",
        "Por lo tanto, obtendríamos el mismo resultado que en el ejemplo anterior ejecutando las siguientes líneas de código:"
      ]
    },
    {
      "cell_type": "code",
      "execution_count": null,
      "metadata": {
        "colab": {
          "base_uri": "https://localhost:8080/"
        },
        "id": "2XQwDu2O_qSv",
        "outputId": "3b32d51b-685f-4112-bc0c-34c4693a22eb"
      },
      "outputs": [
        {
          "name": "stdout",
          "output_type": "stream",
          "text": [
            "1\n",
            "2\n",
            "3\n",
            "4\n",
            "5\n",
            "6\n",
            "7\n",
            "8\n",
            "9\n",
            "10\n"
          ]
        }
      ],
      "source": [
        "for i in range(1, 11):\n",
        "  print(i)"
      ]
    },
    {
      "cell_type": "markdown",
      "metadata": {
        "id": "GR1_6iyAAJiS"
      },
      "source": [
        "¿Y si quisiéramos imprimir los 10 primeros números naturales invirtiendo el orden? Pues, con un bucle `for`, lo haríamos del siguiente modo:"
      ]
    },
    {
      "cell_type": "code",
      "execution_count": null,
      "metadata": {
        "colab": {
          "base_uri": "https://localhost:8080/"
        },
        "id": "cOEYalenAPFv",
        "outputId": "030f5b87-ada3-4470-9128-d21cff1693ef"
      },
      "outputs": [
        {
          "name": "stdout",
          "output_type": "stream",
          "text": [
            "10\n",
            "9\n",
            "8\n",
            "7\n",
            "6\n",
            "5\n",
            "4\n",
            "3\n",
            "2\n",
            "1\n"
          ]
        }
      ],
      "source": [
        "for i in range(10, 0, -1):\n",
        "  print(i)"
      ]
    },
    {
      "cell_type": "markdown",
      "metadata": {
        "id": "XcgdX9yQARKu"
      },
      "source": [
        "### Comando `continue`\n",
        "\n",
        "El comando `continue` es similar a `break`, pero en vez de salir del bucle, lo que hace es interrumpir la iteración en la que se encuentra y empezar la siguiente iteración.\n",
        "\n"
      ]
    },
    {
      "cell_type": "markdown",
      "metadata": {
        "id": "R6H4Kj04EJjT"
      },
      "source": [
        "---\n",
        "#### Ejemplo 2\n",
        "\n",
        "Supongamos que queremos que se nos impriman todos los números entre 0 y 100 que no son ni divisibles entre 2 ni entre 5.\n",
        "\n",
        "**Ejercicio.** Pensad cómo podríais resolver este problema en el cual se exige que en algún momento utilicéis el comando `continue`."
      ]
    },
    {
      "cell_type": "code",
      "execution_count": null,
      "metadata": {
        "colab": {
          "base_uri": "https://localhost:8080/"
        },
        "id": "KNI5JmiAAZGy",
        "outputId": "868ed561-cba0-477a-cb94-96e9bcb0d623"
      },
      "outputs": [
        {
          "name": "stdout",
          "output_type": "stream",
          "text": [
            "1\n",
            "3\n",
            "7\n",
            "9\n",
            "11\n",
            "13\n",
            "17\n",
            "19\n",
            "21\n",
            "23\n",
            "27\n",
            "29\n",
            "31\n",
            "33\n",
            "37\n",
            "39\n",
            "41\n",
            "43\n",
            "47\n",
            "49\n",
            "51\n",
            "53\n",
            "57\n",
            "59\n",
            "61\n",
            "63\n",
            "67\n",
            "69\n",
            "71\n",
            "73\n",
            "77\n",
            "79\n",
            "81\n",
            "83\n",
            "87\n",
            "89\n",
            "91\n",
            "93\n",
            "97\n",
            "99\n"
          ]
        }
      ],
      "source": [
        "for i in range(101):\n",
        "  if i % 2 == 0 or i % 5 == 0:\n",
        "    continue\n",
        "  print(i)"
      ]
    },
    {
      "cell_type": "markdown",
      "metadata": {
        "id": "xjXgA5BbAwUs"
      },
      "source": [
        "---\n",
        "\n"
      ]
    },
    {
      "cell_type": "markdown",
      "metadata": {
        "id": "7bHfvIT7ELh8"
      },
      "source": [
        "## Bucles anidados\n",
        "\n",
        "Se trata de bucles dentro de bucles\n",
        "\n"
      ]
    },
    {
      "cell_type": "markdown",
      "metadata": {
        "id": "KjH93D5PENCL"
      },
      "source": [
        "---\n",
        "\n",
        "#### Ejemplo 3\n",
        "\n",
        "Vamos a calcular las tablas de multiplicar de los números del 1 al 10 anidando dos bucles `for`:"
      ]
    },
    {
      "cell_type": "code",
      "execution_count": 26,
      "metadata": {
        "colab": {
          "base_uri": "https://localhost:8080/"
        },
        "id": "m9K1Gz3RA0OQ",
        "outputId": "7085b9c7-8178-4331-f718-84edb4f3957d"
      },
      "outputs": [
        {
          "name": "stdout",
          "output_type": "stream",
          "text": [
            "\n",
            "Tabla de multiplicar del 1\n",
            "1 x 1 = 1\n",
            "1 x 2 = 2\n",
            "1 x 3 = 3\n",
            "1 x 4 = 4\n",
            "1 x 5 = 5\n",
            "\n",
            "Tabla de multiplicar del 2\n",
            "2 x 1 = 2\n",
            "2 x 2 = 4\n",
            "2 x 3 = 6\n",
            "2 x 4 = 8\n",
            "2 x 5 = 10\n",
            "\n",
            "Tabla de multiplicar del 3\n",
            "3 x 1 = 3\n",
            "3 x 2 = 6\n",
            "3 x 3 = 9\n",
            "3 x 4 = 12\n",
            "3 x 5 = 15\n"
          ]
        }
      ],
      "source": [
        "for i in range(1, 4):\n",
        "  print(\"\\nTabla de multiplicar del {}\".format(i))\n",
        "  for j in range(1, 6):\n",
        "    print(\"{} x {} = {}\".format(i, j, i * j))"
      ]
    },
    {
      "cell_type": "markdown",
      "metadata": {
        "id": "kCcrXPbnGCHT"
      },
      "source": [
        "---\n",
        "\n"
      ]
    }
  ],
  "metadata": {
    "colab": {
      "collapsed_sections": [],
      "name": "Tema05.ipynb",
      "provenance": []
    },
    "kernelspec": {
      "display_name": "Python 3",
      "name": "python3"
    },
    "language_info": {
      "codemirror_mode": {
        "name": "ipython",
        "version": 3
      },
      "file_extension": ".py",
      "mimetype": "text/x-python",
      "name": "python",
      "nbconvert_exporter": "python",
      "pygments_lexer": "ipython3",
      "version": "3.8.5"
    }
  },
  "nbformat": 4,
  "nbformat_minor": 0
}
