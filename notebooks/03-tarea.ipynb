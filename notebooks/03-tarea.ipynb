{
  "nbformat": 4,
  "nbformat_minor": 0,
  "metadata": {
    "colab": {
      "name": "01-entrada-solucion.ipynb",
      "provenance": [],
      "collapsed_sections": []
    },
    "kernelspec": {
      "name": "python3",
      "display_name": "Python 3"
    }
  },
  "cells": [
    {
      "cell_type": "markdown",
      "metadata": {
        "id": "FozkaU1q4Q5W"
      },
      "source": [
        "# Presentaciones\n",
        "\n",
        "Pyratilla ha decidido escribir una ficha de presentación donde constan sus datos:"
      ]
    },
    {
      "cell_type": "code",
      "metadata": {
        "id": "mGwh0HUp4aoY"
      },
      "source": [
        "name = \"Pyratilla\"\n",
        "age = 17\n",
        "pet = True\n",
        "pet_name = \"Pyo\"\n",
        "ocupation = \"Pirata\" # Y en cuanto tenga tripulación, seré capitán\n",
        "coins = 0"
      ],
      "execution_count": null,
      "outputs": []
    },
    {
      "cell_type": "markdown",
      "metadata": {
        "id": "ADATerB05qOf"
      },
      "source": [
        "# Empieza la aventura\n",
        "\n",
        "A pesar de haber sido un poco problemático, los habitantes del pueblo natal de Pyratilla le han acabado cogiendo cariño, hasta tal punto que entre todos han decidido hacerle un regalo de despedida: darle un total de 100 monedas para que empiece su viaje tranquilo y pueda comprar un barco en condiciones en el pueblo vecino.\n",
        "\n",
        "Con lo cual, Pyratilla muy agradecido empieza su aventura poniendo rumbo al pueblo vecino, no sin antes hacer una ligera modificación en su ficha de presentación:"
      ]
    },
    {
      "cell_type": "code",
      "metadata": {
        "id": "twYRchmI6FU1"
      },
      "source": [
        "coins += 100"
      ],
      "execution_count": null,
      "outputs": []
    }
  ]
}