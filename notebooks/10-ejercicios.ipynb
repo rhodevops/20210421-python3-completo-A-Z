{
 "cells": [
  {
   "cell_type": "markdown",
   "metadata": {},
   "source": [
    "# Ejercicio 1\n",
    "\n",
    "Sea un string, comprobar si tiene espacio en blanco y contarlos."
   ]
  },
  {
   "cell_type": "code",
   "execution_count": 6,
   "metadata": {},
   "outputs": [
    {
     "name": "stdout",
     "output_type": "stream",
     "text": [
      "El string tiene 7 espacio en blanco\n"
     ]
    }
   ],
   "source": [
    "s = \"Mi vecino tiene un perro, se llama Lucas\"\n",
    "c = \" \"\n",
    "if \" \" in s:\n",
    "    print(\"El string tiene {} espacioS en blanco\".format(s.count(c)))"
   ]
  },
  {
   "cell_type": "markdown",
   "metadata": {},
   "source": [
    "# Ejercicio 2\n",
    "\n",
    "Programa para resolver ecuaciones de priemr grado de la forma $Ax+B=0$ con $A\\neq 0$"
   ]
  },
  {
   "cell_type": "code",
   "execution_count": 2,
   "metadata": {},
   "outputs": [
    {
     "name": "stdout",
     "output_type": "stream",
     "text": [
      "No hay ecuación que resolver porque A=0\n"
     ]
    }
   ],
   "source": [
    "a = float(input(\"Coeficiente A = \"))\n",
    "b = float(input(\"Coeficiente B = \"))\n",
    "\n",
    "if a != 0:\n",
    "    sol = -b/a\n",
    "    print(\"x =\", sol)\n",
    "else:\n",
    "    print(\"No hay ecuación que resolver porque A=0\")"
   ]
  },
  {
   "cell_type": "markdown",
   "metadata": {},
   "source": [
    "# Ejercicio 3\n",
    "\n",
    "Comprobar si un número es par o impar."
   ]
  },
  {
   "cell_type": "code",
   "execution_count": 17,
   "metadata": {},
   "outputs": [
    {
     "name": "stdout",
     "output_type": "stream",
     "text": [
      "El número introducido es impar\n"
     ]
    }
   ],
   "source": [
    "n = float(input(\"Introduce un número: \"))\n",
    "message = \"El número introducido es par\" if n % 2 == 0 else \"El número introducido es impar\"\n",
    "print(message)"
   ]
  },
  {
   "cell_type": "markdown",
   "metadata": {},
   "source": [
    "# Ejercicio 4\n",
    "\n",
    "Comprobar si un punto del plano pertenece al cuadrado unidad"
   ]
  },
  {
   "cell_type": "code",
   "execution_count": 22,
   "metadata": {},
   "outputs": [
    {
     "name": "stdout",
     "output_type": "stream",
     "text": [
      "Introduce las coordenadas x e y de un punto del plano cartesiano\n",
      "El punto (1.0,1.0) pertenece al cuadrado unidad\n"
     ]
    }
   ],
   "source": [
    "print(\"Introduce las coordenadas x e y de un punto del plano cartesiano\")\n",
    "x = float(input(\"Introduce la cordenada x: \"))\n",
    "y = float(input(\"Introduce la cordenada y: \"))\n",
    "\n",
    "if 0 <= x <= 1 and 0 <= y <= 1:\n",
    "    print(\"El punto ({},{}) pertenece al cuadrado unidad\".format(x,y))\n",
    "else:\n",
    "    print(\"El punto ({},{}) no pertenece al cuadrado unidad\".format(x,y))\n"
   ]
  },
  {
   "cell_type": "markdown",
   "metadata": {},
   "source": [
    "# Ejercicio 5\n",
    "Comprobar si un año introducido por el usuario es bisiesto o no.\n",
    "\n",
    "Observar que un año es bisiesto si es divisible por 4 pero no es divisible por 100, a no ser que sea divisible por 400."
   ]
  },
  {
   "cell_type": "code",
   "execution_count": 29,
   "metadata": {},
   "outputs": [
    {
     "name": "stdout",
     "output_type": "stream",
     "text": [
      "El año 1 no es bisiesto\n"
     ]
    }
   ],
   "source": [
    "year = int(input(\"Introduce un año: \"))\n",
    "bisiesto = \"El año {} es bisiesto\".format(year)\n",
    "noBisiesto = \"El año {} no es bisiesto\".format(year)\n",
    "\n",
    "if year % 4 == 0:\n",
    "    if year % 100 == 0:\n",
    "        if year % 400 == 0:\n",
    "            print(bisiesto)\n",
    "        else:\n",
    "            print(noBisiesto)  \n",
    "    else:\n",
    "        print(bisiesto)\n",
    "else:\n",
    "    print(noBisiesto)\n"
   ]
  },
  {
   "cell_type": "markdown",
   "metadata": {},
   "source": [
    "# Tarea"
   ]
  },
  {
   "cell_type": "code",
   "execution_count": 7,
   "metadata": {},
   "outputs": [
    {
     "name": "stdout",
     "output_type": "stream",
     "text": [
      "El número -10.0 es negativo\n"
     ]
    }
   ],
   "source": [
    "# Ejercicio 1\n",
    "\n",
    "n = float(input(\"Introduce un número real: \"))\n",
    "s = \"El número {} es\".format(n)\n",
    "if n < 0:\n",
    "    print(s, \"negativo\")\n",
    "elif n > 0:\n",
    "    print(s, \"positivo\")\n",
    "else:\n",
    "    print(s, \"cero\")"
   ]
  },
  {
   "cell_type": "code",
   "execution_count": 13,
   "metadata": {},
   "outputs": [
    {
     "name": "stdout",
     "output_type": "stream",
     "text": [
      "El nombre Roberto no tiene más de 10 caracteres\n"
     ]
    }
   ],
   "source": [
    "# Ejercicio 2\n",
    "\n",
    "s1 = input(\"Introduce tu nombre: \")\n",
    "s2 = \"no\" if len(s1) <= 10 else \"si\"\n",
    "s3 = \"El nombre {} {} tiene más de 10 caracteres\".format(s1,s2)\n",
    "print(s3)"
   ]
  },
  {
   "cell_type": "code",
   "execution_count": 14,
   "metadata": {},
   "outputs": [
    {
     "name": "stdout",
     "output_type": "stream",
     "text": [
      "El nombre dajfnjsdknfjsd si tiene más de 10 caracteres\n"
     ]
    }
   ],
   "source": [
    "# Ejercicio 3\n",
    "\n",
    "s1 = input(\"Introduce tu nombre: \")\n",
    "s2 = \"no\" if len(s1) <= 10 else \"si\"\n",
    "s3 = \"El nombre {} {} tiene más de 10 caracteres\".format(s1,s2)\n",
    "print(s3)"
   ]
  },
  {
   "cell_type": "code",
   "execution_count": 17,
   "metadata": {},
   "outputs": [
    {
     "name": "stdout",
     "output_type": "stream",
     "text": [
      "El número 15 es mayor que 2\n"
     ]
    }
   ],
   "source": [
    "# Ejercicio 4\n",
    "\n",
    "n1, n2 = int(input(\"Introduce un número entero positivo: \")), int(input(\"Introduce otro número entero positivo: \"))\n",
    "mayor = \"El número {} es mayor que {}\".format(n1,n2)\n",
    "menor = \"El número {} es menor que {}\".format(n1,n2)\n",
    "print(mayor) if n1 > n2 else print(menor)"
   ]
  },
  {
   "cell_type": "code",
   "execution_count": 21,
   "metadata": {},
   "outputs": [
    {
     "name": "stdout",
     "output_type": "stream",
     "text": [
      "La división 40/8 es exacta. El cociente es 5\n"
     ]
    }
   ],
   "source": [
    "# Ejercicio 5\n",
    "\n",
    "n1, n2 = int(input(\"Introduce un número entero positivo: \")), int(input(\"Introduce otro número entero positivo mayor o igual que el anterior: \"))\n",
    "c = n1 // n2\n",
    "r = n1 % n2\n",
    "exacta = \"La división {}/{} es exacta. El cociente es {}\".format(n1,n2,c)\n",
    "noExacta = \"La división {}/{} no es exacta. El cociente es {} y el resto es {}\".format(n1,n2,c,r)\n",
    "print(exacta) if n1 % n2 == 0 else print(noExacta)"
   ]
  },
  {
   "cell_type": "code",
   "execution_count": 23,
   "metadata": {},
   "outputs": [
    {
     "name": "stdout",
     "output_type": "stream",
     "text": [
      "El número 500 es mayor que 8\n",
      "La división 500/8 no es exacta. El cociente es 62 y el resto es 4\n"
     ]
    }
   ],
   "source": [
    "# Ejercicio 6\n",
    "\n",
    "n1, n2 = int(input(\"Introduce un número entero positivo: \")), int(input(\"Introduce otro número entero positivo: \"))\n",
    "c = n1 // n2\n",
    "r = n1 % n2\n",
    "mayor = \"El número {} es mayor que {}\".format(n1,n2)\n",
    "menor = \"El número {} es menor que {}\".format(n1,n2)\n",
    "\n",
    "if n1 < n2:\n",
    "    print(menor)\n",
    "else:\n",
    "    print(mayor)\n",
    "    exacta = \"La división {}/{} es exacta. El cociente es {}\".format(n1,n2,c)\n",
    "    noExacta = \"La división {}/{} no es exacta. El cociente es {} y el resto es {}\".format(n1,n2,c,r)\n",
    "    print(exacta) if n1 % n2 == 0 else print(noExacta)"
   ]
  },
  {
   "cell_type": "code",
   "execution_count": 26,
   "metadata": {},
   "outputs": [
    {
     "name": "stdout",
     "output_type": "stream",
     "text": [
      "100 es múltiplo de 20\n"
     ]
    }
   ],
   "source": [
    "# Ejercicio 7\n",
    "\n",
    "n1, n2 = int(input(\"Introduce un número entero positivo: \")), int(input(\"Introduce otro número entero positivo: \"))\n",
    "\n",
    "if n1 > n2:\n",
    "    if n1 % n2 == 00: \n",
    "        print(\"{} es múltiplo de {}\".format(n1,n2))\n",
    "    else:\n",
    "        print(\"{} no es múltiplo de {}\".format(n1,n2))\n",
    "elif n1 < n2:\n",
    "    if n2 % n1 == 00: \n",
    "        print(\"{} es múltiplo de {}\".format(n2,n1))\n",
    "    else:\n",
    "        print(\"{} no es múltiplo de {}\".format(n2,n1))\n",
    "else:\n",
    "    print(\"Los números introducidos son iguales\")"
   ]
  }
 ],
 "metadata": {
  "interpreter": {
   "hash": "b3ba2566441a7c06988d0923437866b63cedc61552a5af99d1f4fb67d367b25f"
  },
  "kernelspec": {
   "display_name": "Python 3.8.5 64-bit ('base': conda)",
   "language": "python",
   "name": "python3"
  },
  "language_info": {
   "codemirror_mode": {
    "name": "ipython",
    "version": 3
   },
   "file_extension": ".py",
   "mimetype": "text/x-python",
   "name": "python",
   "nbconvert_exporter": "python",
   "pygments_lexer": "ipython3",
   "version": "3.8.5"
  },
  "orig_nbformat": 4
 },
 "nbformat": 4,
 "nbformat_minor": 2
}
