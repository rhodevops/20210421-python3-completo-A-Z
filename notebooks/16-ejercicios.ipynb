{
 "cells": [
  {
   "cell_type": "markdown",
   "metadata": {},
   "source": [
    "# Ejercicio 1\n",
    "\n",
    "Pedir al usuario la longitud de una lista. Que introduzca tantos número enteros como haya indicado. Imprimir la lista."
   ]
  },
  {
   "cell_type": "code",
   "execution_count": 2,
   "metadata": {},
   "outputs": [
    {
     "name": "stdout",
     "output_type": "stream",
     "text": [
      "[5, 4]\n"
     ]
    }
   ],
   "source": [
    "l = int(input(\"Introduce la longitud deseada para una lista: \"))\n",
    "list = []\n",
    "\n",
    "for c in range(l):\n",
    "    n = int(input(\"Introduce un número: \"))\n",
    "    list.append(n)\n",
    "    \n",
    "print(list)"
   ]
  },
  {
   "cell_type": "markdown",
   "metadata": {},
   "source": [
    "# Ejercicio 2\n",
    "\n",
    "Crear una matriz 3x3 de números enteros y guardarla en una lista"
   ]
  },
  {
   "cell_type": "markdown",
   "metadata": {},
   "source": [
    "## Mi solución"
   ]
  },
  {
   "cell_type": "code",
   "execution_count": 16,
   "metadata": {},
   "outputs": [
    {
     "name": "stdout",
     "output_type": "stream",
     "text": [
      "[[1, 2, 3], [4, 5, 6], [7, 8, 9]]\n"
     ]
    }
   ],
   "source": [
    "A = []\n",
    "for i in range(3):\n",
    "    fila_i = []\n",
    "    for j in range(3):\n",
    "        n = int(input(\"Introduce el elemento {}{}\".format(i+1,j+1)))\n",
    "        fila_i.extend([n])       \n",
    "    A.extend([fila_i])\n",
    "print(A)\n"
   ]
  },
  {
   "cell_type": "markdown",
   "metadata": {},
   "source": [
    "## Solución del curso"
   ]
  },
  {
   "cell_type": "code",
   "execution_count": 17,
   "metadata": {},
   "outputs": [
    {
     "name": "stdout",
     "output_type": "stream",
     "text": [
      "[[1, 2, 3], [4, 5, 6], [7, 8, 9]]\n"
     ]
    }
   ],
   "source": [
    "A = []\n",
    "for i in range(3):\n",
    "    A.append([])\n",
    "    for j in range(3):\n",
    "        n = int(input(\"Introduce el elemento ({},{}): \".format(i+1,j+1)))  \n",
    "        A[i].append(n)\n",
    "print(A)"
   ]
  },
  {
   "cell_type": "markdown",
   "metadata": {},
   "source": [
    "# Ejercicio 3\n",
    "\n",
    "Sumar dos matrices con listas. Ambas matrices (incluida la dimensión) son proporcionadas por el usuario."
   ]
  },
  {
   "cell_type": "code",
   "execution_count": 36,
   "metadata": {},
   "outputs": [
    {
     "name": "stdout",
     "output_type": "stream",
     "text": [
      "Se te piden dos matrices para obtener la suma\n",
      "\n",
      "Introduce la primera matriz A: \n",
      "La matriz A = [[1.0, 2.0], [3.0, 4.0]]\n",
      "\n",
      "Introduce la primera matriz B: \n",
      "La matriz B = [[5.0, 6.0], [7.0, 8.0]]\n",
      "\n",
      "La matriz suma C = A + B = [[6.0, 8.0], [10.0, 12.0]]\n",
      "\n",
      "*****Impreso más bonito ***** \n",
      "***** La matriz suma es ***** \n",
      "6.0  8.0  \n",
      "10.0  12.0  \n"
     ]
    }
   ],
   "source": [
    "print(\"Se te piden dos matrices para obtener la suma\")\n",
    "\n",
    "n = int(input(\"\\nIntroduce el número de filas de las matrices\"))\n",
    "m = int(input(\"Introduce el número de columnas de las matrices\"))\n",
    "\n",
    "print(\"\\nIntroduce la primera matriz A: \")\n",
    "A = []\n",
    "for i in range(n):\n",
    "    A.append([])\n",
    "    for j in range(m):\n",
    "        A[i].append(float(input(\"Introduce el elemento ({},{}): \".format(i+1,j+1))))\n",
    "print(\"La matriz A = {}\".format(A))\n",
    "\n",
    "print(\"\\nIntroduce la segunda matriz B: \")\n",
    "B = []\n",
    "for i in range(n):\n",
    "    B.append([])\n",
    "    for j in range(m):\n",
    "        B[i].append(float(input(\"Introduce el elemento ({},{}): \".format(i+1,j+1))))\n",
    "print(\"La matriz B = {}\".format(B))\n",
    "\n",
    "C = []\n",
    "for i in range(n):\n",
    "    C.append([])\n",
    "    for j in range(m):\n",
    "        sum = A[i][j] + B[i][j]\n",
    "        C[i].append(sum)\n",
    "\n",
    "\n",
    "print(\"\\nLa matriz suma C = A + B = {}\".format(C))\n",
    "\n",
    "print(\"\\n*****Impreso más bonito ***** \\n***** La matriz suma es ***** \")\n",
    "\n",
    "for i in range(m):\n",
    "    for j in range(n):\n",
    "        print(C[i][j], end = \"  \" if C[i][j] else \" \")\n",
    "    print(\"\")"
   ]
  },
  {
   "cell_type": "markdown",
   "metadata": {},
   "source": [
    "# Ejercicio 4\n",
    "\n",
    "Multiplicar dos matrices con listas. Ambas matrices (incluida la dimensión) son proporcionadas por el usuario."
   ]
  },
  {
   "cell_type": "code",
   "execution_count": 37,
   "metadata": {},
   "outputs": [
    {
     "name": "stdout",
     "output_type": "stream",
     "text": [
      "Se te piden dos matrices para obtener el producto\n",
      "\n",
      "Introduce la primera matriz A: \n",
      "La matriz A = [[1.0, 2.0], [3.0, 4.0]]\n",
      "\n",
      "Introduce la segunda matriz B: \n",
      "La matriz B = [[5.0, 6.0, 1.0], [2.0, 4.0, 5.0]]\n",
      "\n",
      "La matriz suma C = A + B = [[9.0, 14.0, 11.0], [23.0, 34.0, 23.0]]\n",
      "\n",
      "*****Impreso más bonito ***** \n",
      "***** La matriz suma es ***** \n",
      "9.0  14.0  \n",
      "23.0  34.0  \n"
     ]
    }
   ],
   "source": [
    "print(\"Se te piden dos matrices para obtener el producto\")\n",
    "\n",
    "n = int(input(\"\\nIntroduce el número de filas de la matriz A\"))\n",
    "m = int(input(\"Introduce el número de columnas de la matriz A\"))\n",
    "p = int(input(\"Introduce el número de filas de la matriz B\"))\n",
    "\n",
    "print(\"\\nIntroduce la primera matriz A: \")\n",
    "A = []\n",
    "for i in range(n):\n",
    "    A.append([])\n",
    "    for j in range(m):\n",
    "        A[i].append(float(input(\"Introduce el elemento ({},{}): \".format(i+1,j+1))))\n",
    "print(\"La matriz A = {}\".format(A))\n",
    "\n",
    "print(\"\\nIntroduce la segunda matriz B: \")\n",
    "B = []\n",
    "for i in range(m):\n",
    "    B.append([])\n",
    "    for j in range(p):\n",
    "        B[i].append(float(input(\"Introduce el elemento ({},{}): \".format(i+1,j+1))))\n",
    "print(\"La matriz B = {}\".format(B))\n",
    "\n",
    "C = []\n",
    "for i in range(n):\n",
    "    C.append([])\n",
    "    for j in range(p):\n",
    "        sum = 0\n",
    "        for k in range(m):\n",
    "            prod = A[i][k] * B[k][j]\n",
    "            sum = sum + prod\n",
    "        C[i].append(sum)\n",
    "\n",
    "print(\"\\nLa matriz producto C = A * B = {}\".format(C))\n",
    "\n",
    "print(\"\\n*****Impreso más bonito ***** \\n***** La matriz producto es ***** \")\n",
    "\n",
    "for i in range(m):\n",
    "    for j in range(n):\n",
    "        print(C[i][j], end = \"  \" if C[i][j] else \" \")\n",
    "    print(\"\")"
   ]
  },
  {
   "cell_type": "markdown",
   "metadata": {},
   "source": [
    "# Ejercicio 4\n",
    "\n",
    "Que el usuario nos de una matriz. Utilizar numpy."
   ]
  },
  {
   "cell_type": "markdown",
   "metadata": {},
   "source": [
    "## Mi solución"
   ]
  },
  {
   "cell_type": "code",
   "execution_count": 40,
   "metadata": {},
   "outputs": [
    {
     "name": "stdout",
     "output_type": "stream",
     "text": [
      "\n",
      "Introduce la primera matriz A: \n",
      "[[1. 2.]\n",
      " [3. 4.]]\n"
     ]
    }
   ],
   "source": [
    "import numpy as np\n",
    "n = int(input(\"Introduce el número de filas: \"))\n",
    "m = int(input(\"Introduce el número de columnas: \"))\n",
    "\n",
    "print(\"\\nIntroduce la primera matriz A: \")\n",
    "A = []\n",
    "for i in range(n):\n",
    "    A.append([])\n",
    "    for j in range(m):\n",
    "        A[i].append(float(input(\"Introduce el elemento ({},{}): \".format(i+1,j+1))))\n",
    "\n",
    "A = np.matrix(A)\n",
    "print(A)\n"
   ]
  },
  {
   "cell_type": "markdown",
   "metadata": {},
   "source": [
    "## Solución del curso"
   ]
  },
  {
   "cell_type": "code",
   "execution_count": 45,
   "metadata": {},
   "outputs": [
    {
     "name": "stdout",
     "output_type": "stream",
     "text": [
      "[[1. 2.]\n",
      " [3. 4.]]\n"
     ]
    }
   ],
   "source": [
    "import numpy as np\n",
    "n = int(input(\"Introduce el número de filas: \"))\n",
    "m = int(input(\"Introduce el número de columnas: \"))\n",
    "\n",
    "A = np.empty((n,m))\n",
    "\n",
    "for i in range(n):\n",
    "    for j in range(m):\n",
    "        A[i,j] = float(input(\"Introduce el elemento ({},{}): \".format(i+1,j+1)))\n",
    "\n",
    "print(A)"
   ]
  },
  {
   "cell_type": "markdown",
   "metadata": {},
   "source": [
    "# Ejercicio 5\n",
    "\n",
    "Sumar dos matrices con numpy. Datos dados por el usuario."
   ]
  },
  {
   "cell_type": "code",
   "execution_count": 52,
   "metadata": {},
   "outputs": [
    {
     "name": "stdout",
     "output_type": "stream",
     "text": [
      "\n",
      "Introduce la primera matriz A: \n",
      "[[1. 2.]\n",
      " [3. 4.]]\n",
      "\n",
      "Introduce la primera matriz B: \n",
      "[[5. 1.]\n",
      " [2. 7.]]\n",
      "\n",
      "La matriz suma es \n",
      "[[ 6.  3.]\n",
      " [ 5. 11.]]: \n"
     ]
    }
   ],
   "source": [
    "import numpy as np\n",
    "n = int(input(\"Introduce el número de filas: \"))\n",
    "m = int(input(\"Introduce el número de columnas: \"))\n",
    "\n",
    "print(\"\\nIntroduce la primera matriz A: \")\n",
    "A = np.empty((n,m))\n",
    "\n",
    "for i in range(n):\n",
    "    for j in range(m):\n",
    "        A[i,j] = float(input(\"Introduce el elemento ({},{}): \".format(i+1,j+1)))\n",
    "\n",
    "print(A)\n",
    "\n",
    "print(\"\\nIntroduce la primera matriz B: \")\n",
    "B = np.empty((n,m))\n",
    "\n",
    "for i in range(n):\n",
    "    for j in range(m):\n",
    "        B[i,j] = float(input(\"Introduce el elemento ({},{}): \".format(i+1,j+1)))\n",
    "\n",
    "print(B)\n",
    "\n",
    "print(\"\\nLa matriz suma es \\n{}: \".format(A+B))"
   ]
  },
  {
   "cell_type": "markdown",
   "metadata": {},
   "source": [
    "# Ejercicio 6\n",
    "\n",
    "Multiplicar dos matrices con numpy. Datos dados por el usuario."
   ]
  },
  {
   "cell_type": "code",
   "execution_count": 53,
   "metadata": {},
   "outputs": [
    {
     "name": "stdout",
     "output_type": "stream",
     "text": [
      "\n",
      "Introduce la primera matriz A: \n",
      "[[ 1.  5.  8.]\n",
      " [10. 56.  4.]]\n",
      "\n",
      "Introduce la primera matriz B: \n",
      "[[   5.  -12. -100.  -45.    4.]\n",
      " [  50.  -10.   15.   10.   45.]\n",
      " [   8.   45.   15.    4.    5.]]\n",
      "\n",
      "La matriz suma es \n",
      "[[ 319.  298.   95.   37.  269.]\n",
      " [2882. -500. -100.  126. 2580.]]: \n"
     ]
    }
   ],
   "source": [
    "import numpy as np\n",
    "n = int(input(\"Introduce el número de filas de A: \"))\n",
    "m = int(input(\"Introduce el número de columnas de A: \"))\n",
    "p = int(input(\"Introduce el número de columnas de B: \"))\n",
    "\n",
    "print(\"\\nIntroduce la primera matriz A: \")\n",
    "A = np.empty((n,m))\n",
    "\n",
    "for i in range(n):\n",
    "    for j in range(m):\n",
    "        A[i,j] = float(input(\"Introduce el elemento ({},{}): \".format(i+1,j+1)))\n",
    "\n",
    "print(A)\n",
    "\n",
    "print(\"\\nIntroduce la primera matriz B: \")\n",
    "B = np.empty((m,p))\n",
    "\n",
    "for i in range(m):\n",
    "    for j in range(p):\n",
    "        B[i,j] = float(input(\"Introduce el elemento ({},{}): \".format(i+1,j+1)))\n",
    "\n",
    "print(B)\n",
    "\n",
    "print(\"\\nLa matriz producto es \\n{}: \".format(A.dot(B)))"
   ]
  },
  {
   "cell_type": "markdown",
   "metadata": {},
   "source": [
    "# Tarea"
   ]
  },
  {
   "cell_type": "code",
   "execution_count": 131,
   "metadata": {},
   "outputs": [
    {
     "name": "stdout",
     "output_type": "stream",
     "text": [
      "a l o h "
     ]
    }
   ],
   "source": [
    "# Ejercicio 1\n",
    "\n",
    "string = input(\"Introduce una frase: \")\n",
    "\n",
    "list = []\n",
    "\n",
    "for c in string:\n",
    "    list.append(c)\n",
    "\n",
    "list.reverse()\n",
    "\n",
    "for c in list:\n",
    "    print(c, end = \" \")\n"
   ]
  },
  {
   "cell_type": "code",
   "execution_count": 108,
   "metadata": {},
   "outputs": [
    {
     "name": "stdout",
     "output_type": "stream",
     "text": [
      "['h', 'l', 'q', 't', 'l']\n"
     ]
    }
   ],
   "source": [
    "# Ejercicio 3\n",
    "\n",
    "string = input(\"Introduce una frase: \")\n",
    "\n",
    "list = []\n",
    "\n",
    "for c in string:\n",
    "    if c == \"a\" or c == \"e\" or c == \"i\" or c == \"o\" or c == \"u\" or c == \" \":\n",
    "        continue\n",
    "    list.append(c)\n",
    "\n",
    "print(list)"
   ]
  },
  {
   "cell_type": "code",
   "execution_count": 130,
   "metadata": {},
   "outputs": [
    {
     "name": "stdout",
     "output_type": "stream",
     "text": [
      "La palabra holaaloh es un palíndromo\n"
     ]
    }
   ],
   "source": [
    "# Ejercicio 4\n",
    "\n",
    "string = input(\"Introduce una palabra: \")\n",
    "\n",
    "list, list_reverse = [], []\n",
    "for c in string:\n",
    "    list.append(c)\n",
    "    list_reverse.append(c)\n",
    "\n",
    "list_reverse.reverse()\n",
    "                  \n",
    "for i in range(len(list)):\n",
    "    if list[i] != list_reverse[i]:\n",
    "        print(\"La palabra {} no es un palíndromo\".format(string))\n",
    "        break\n",
    "else:\n",
    "    print(\"La palabra {} es un palíndromo\".format(string))      "
   ]
  },
  {
   "cell_type": "code",
   "execution_count": 134,
   "metadata": {},
   "outputs": [
    {
     "name": "stdout",
     "output_type": "stream",
     "text": [
      "Introduce una matriz 3x3: \n",
      "[[ 12. 500. -12.]\n",
      " [-15. -26.  -2.]\n",
      " [ 15.  48.  50.]]\n",
      "El máximo de la fila 0 es 500.0\n",
      "El máximo de la fila 1 es -2.0\n",
      "El máximo de la fila 2 es 50.0\n"
     ]
    }
   ],
   "source": [
    "# Ejercicio 5\n",
    "\n",
    "import numpy as np\n",
    "\n",
    "print(\"Introduce una matriz 3x3: \")\n",
    "\n",
    "A = np.empty((3,3))\n",
    "\n",
    "for i in range(3):\n",
    "    for j in range(3):\n",
    "        A[i,j] = float(input(\"Introduce el elemento ({},{})\".format(i+1,j+1)))\n",
    "\n",
    "print(A)\n",
    "\n",
    "for i in range(3):\n",
    "    max = A[i,1]\n",
    "    for j in range(3):\n",
    "        if A[i,j] > max:\n",
    "            max = A[i,j]\n",
    "    print(\"El máximo de la fila {} es {}\".format(i+1,max))\n",
    "        \n"
   ]
  },
  {
   "cell_type": "code",
   "execution_count": null,
   "metadata": {},
   "outputs": [],
   "source": []
  }
 ],
 "metadata": {
  "interpreter": {
   "hash": "b3ba2566441a7c06988d0923437866b63cedc61552a5af99d1f4fb67d367b25f"
  },
  "kernelspec": {
   "display_name": "Python 3.8.5 64-bit ('base': conda)",
   "language": "python",
   "name": "python3"
  },
  "language_info": {
   "codemirror_mode": {
    "name": "ipython",
    "version": 3
   },
   "file_extension": ".py",
   "mimetype": "text/x-python",
   "name": "python",
   "nbconvert_exporter": "python",
   "pygments_lexer": "ipython3",
   "version": "3.8.5"
  },
  "orig_nbformat": 4
 },
 "nbformat": 4,
 "nbformat_minor": 2
}
