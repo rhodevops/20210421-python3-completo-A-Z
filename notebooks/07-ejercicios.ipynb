{
 "cells": [
  {
   "cell_type": "markdown",
   "metadata": {},
   "source": [
    "# Ejercicio 1\n",
    "\n",
    "Vamos a combinar concatenación y repetición de strings para reproducir la canción \"Cumpleaños feliz\""
   ]
  },
  {
   "cell_type": "code",
   "execution_count": null,
   "metadata": {},
   "outputs": [
    {
     "name": "stdout",
     "output_type": "stream",
     "text": [
      "¡Cumpleaños feliz!\n",
      "¡Cumpleaños feliz!\n",
      "Te deseamos todos,\n",
      "¡Cumpleaños feliz!\n"
     ]
    }
   ],
   "source": [
    "s1 = \"¡Cumpleaños feliz!\"\n",
    "s2 = \"Te deseamos todos\"\n",
    "\n",
    "song = (s1 + \"\\n\") * 2 + s2 + \",\\n\" + s1\n",
    "print(song)"
   ]
  },
  {
   "cell_type": "markdown",
   "metadata": {},
   "source": [
    "# Ejercicio 2\n",
    "\n",
    "Dado un string, vamos a pedir al usuario que introduzca una palabra perteneciente a dicho string y vamos a obtener el substring sin la palabra indicada utilizando el método `.find()` y la función len()"
   ]
  },
  {
   "cell_type": "markdown",
   "metadata": {},
   "source": [
    "## Solución propia"
   ]
  },
  {
   "cell_type": "code",
   "execution_count": 15,
   "metadata": {},
   "outputs": [
    {
     "name": "stdout",
     "output_type": "stream",
     "text": [
      "Hola, ¿cómo te encuentras hoy? Bien o mal\n",
      "Me encuentro \n"
     ]
    }
   ],
   "source": [
    "s = \"Hola, ¿cómo te encuentras hoy? Bien o mal\"\n",
    "print(s)\n",
    "estado = input(\"Estado actual: \")\n",
    "print(\"Me encuentro \" + estado.lower())"
   ]
  },
  {
   "cell_type": "markdown",
   "metadata": {},
   "source": [
    "## Solución en el curso"
   ]
  },
  {
   "cell_type": "code",
   "execution_count": 16,
   "metadata": {},
   "outputs": [
    {
     "name": "stdout",
     "output_type": "stream",
     "text": [
      "Este es el string original: Hola, ¿cómo te encuentras? Bien o mal\n",
      "Introduce la palabra que quieras eliminar del string original:\n",
      "ola, ¿cómo te encuentras? Bien o mal\n"
     ]
    }
   ],
   "source": [
    "string = \"Hola, ¿cómo te encuentras? Bien o mal\"\n",
    "print(\"Este es el string original:\", end = \" \")\n",
    "print(string) \n",
    "\n",
    "print(\"Introduce la palabra que quieras eliminar del string original:\")\n",
    "word = input(\"Palabra: \")\n",
    "\n",
    "idx = string.find(word)\n",
    "substring = string[:idx] + string[idx + len(word) + 1:]\n",
    "print(substring)"
   ]
  },
  {
   "cell_type": "markdown",
   "metadata": {},
   "source": [
    "# Ejercicio 3\n",
    "\n",
    "Sobre la canción Cumpleaños feliz. Vamos a permitir al usuario elegir a quien va destinada la canción."
   ]
  },
  {
   "cell_type": "code",
   "execution_count": 10,
   "metadata": {},
   "outputs": [
    {
     "name": "stdout",
     "output_type": "stream",
     "text": [
      "Indica el destinario de la canción:\n",
      "¡Cumpleaños feliz!\n",
      "¡Cumpleaños feliz!\n",
      "Te deseamos Marta,\n",
      "¡Cumpleaños feliz!\n"
     ]
    }
   ],
   "source": [
    "print(\"Indica el destinario de la canción:\")\n",
    "name = input()\n",
    "\n",
    "s1 = \"¡Cumpleaños feliz!\"\n",
    "s2 = \"Te deseamos todos\"\n",
    "\n",
    "song = (s1 + \"\\n\")*2 + s2.replace(\"todos\", name) + \",\\n\" + s1\n",
    "\n",
    "print(song)\n"
   ]
  },
  {
   "cell_type": "code",
   "execution_count": 11,
   "metadata": {},
   "outputs": [
    {
     "name": "stdout",
     "output_type": "stream",
     "text": [
      "Indica el destinario de la canción:\n",
      "¡Cumpleaños feliz!\n",
      "¡Cumpleaños feliz!\n",
      "Te deseamos Roberto,\n",
      "¡Cumpleaños feliz!\n"
     ]
    }
   ],
   "source": [
    "print(\"Indica el destinario de la canción:\")\n",
    "name = input()\n",
    "\n",
    "s1 = \"¡Cumpleaños feliz!\"\n",
    "s2 = \"Te deseamos \"\n",
    "\n",
    "song = (s1 + \"\\n\")*2 + s2 + name + \",\\n\" + s1\n",
    "\n",
    "print(song)\n"
   ]
  },
  {
   "cell_type": "markdown",
   "metadata": {},
   "source": [
    "# Ejercicio 4\n",
    "\n",
    "Vamos a pedirle al usuario palabras o frases y le vamos a devolver el mismo string modificado con alguno de los métodos aprendidos según se indique:\n",
    "\n",
    "1. Devolver la palabra en mayúscula\n",
    "2. Devolver la frase con todas las palabras empezando en mayúscula\n",
    "3. Devolver la palabra (con 3 o más letras) con todas las letras en minúscula salvo la tercera letra\n",
    "4. Devolver la palabra con todas las letras en mayúsculas salvo la primera y la última\n",
    "5. Devolver la frase donde cada vez que aparezcan las dos primeras letras de la primera palabra, sean substituidas por cualesquiera otras dos letras."
   ]
  },
  {
   "cell_type": "code",
   "execution_count": 23,
   "metadata": {},
   "outputs": [
    {
     "name": "stdout",
     "output_type": "stream",
     "text": [
      "Por favor, introduce una palabra: \n",
      "casablanca\n",
      "caSablanca\n",
      "cASABLANCa\n",
      "cASABLANCa\n"
     ]
    }
   ],
   "source": [
    "print(\"Por favor, introduce una palabra: \")\n",
    "palabra = input()\n",
    "\n",
    "# Apartado 1\n",
    "print(palabra.lower())\n",
    "\n",
    "# Apartado 3\n",
    "print(palabra[:2].lower() + palabra[2].upper() + palabra[3:].lower())\n",
    "\n",
    "# Apartado 4\n",
    "d = len(palabra)\n",
    "print(palabra[0].lower() + palabra[1:d-1].upper() + palabra[d-1].lower())\n",
    "\n",
    "# Apartado 4bis\n",
    "d = len(palabra)\n",
    "print(palabra[0].lower() + palabra[1:d-1].upper() + palabra[-1].lower())\n"
   ]
  },
  {
   "cell_type": "code",
   "execution_count": 36,
   "metadata": {},
   "outputs": [
    {
     "name": "stdout",
     "output_type": "stream",
     "text": [
      "Por favor, introduce una frase: \n",
      "Mi Mama Me Mima, Como Me Mima Mi Mama\n",
      "Mi mama me yyma, como me yyma yy mama\n",
      "pi mama me mima, como me mima mi mama\n"
     ]
    }
   ],
   "source": [
    "print(\"Por favor, introduce una frase: \")\n",
    "frase = input()\n",
    "\n",
    "# Apartado 2\n",
    "print(frase.title())\n",
    "\n",
    "# Apartado 5\n",
    "x = frase[0:2].lower()\n",
    "fraseModificada = frase.replace(x, \"yy\")\n",
    "print(fraseModificada)\n",
    "\n",
    "# Apartado 5bis\n",
    "subs = \"pi\"\n",
    "print(frase.replace(frase[:2], subs))\n",
    "\n"
   ]
  },
  {
   "cell_type": "markdown",
   "metadata": {},
   "source": [
    "# Ejercicio 5\n",
    "\n",
    "Pedimos al usuario su año de nacimiento y el año actual y le imprimimos por pantalla su edad."
   ]
  },
  {
   "cell_type": "code",
   "execution_count": 44,
   "metadata": {},
   "outputs": [
    {
     "name": "stdout",
     "output_type": "stream",
     "text": [
      "Introduce el año actual:\n",
      "Introduce tu años de nacimiento:\n",
      "¿Has celebrado tu cumple este años? Contesta si o no:\n",
      "Actualmente tienes 1970 años\n"
     ]
    }
   ],
   "source": [
    "print(\"Introduce el año actual:\")\n",
    "añoActual = int(input(\"Año actual: \"))\n",
    "\n",
    "print(\"Introduce tu años de nacimiento:\")\n",
    "añoNacimiento = int(input(\"Año nacimiento: \"))\n",
    "\n",
    "print(\"¿Has celebrado tu cumple este años? Contesta si o no:\")\n",
    "condicion = (input(\"si/no: \"))\n",
    "\n",
    "if condicion == \"si\":\n",
    "    edad = añoActual - añoNacimiento\n",
    "else:\n",
    "    edad = añoActual - añoNacimiento - 1\n",
    "\n",
    "print(\"Actualmente tienes\", edad, \"años\")"
   ]
  }
 ],
 "metadata": {
  "interpreter": {
   "hash": "093c1e2af443b6e218a47f6ea502f3f24acf1bf7253c6d541b1445fc7614cbb1"
  },
  "kernelspec": {
   "display_name": "Python 3.6.13 64-bit ('r-reticulate': conda)",
   "language": "python",
   "name": "python3"
  },
  "language_info": {
   "codemirror_mode": {
    "name": "ipython",
    "version": 3
   },
   "file_extension": ".py",
   "mimetype": "text/x-python",
   "name": "python",
   "nbconvert_exporter": "python",
   "pygments_lexer": "ipython3",
   "version": "3.8.5"
  },
  "orig_nbformat": 4
 },
 "nbformat": 4,
 "nbformat_minor": 2
}
