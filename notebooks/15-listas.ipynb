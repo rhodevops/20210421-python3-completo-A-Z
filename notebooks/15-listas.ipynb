{
  "cells": [
    {
      "cell_type": "markdown",
      "metadata": {
        "id": "ItbXu0FIPfw8"
      },
      "source": [
        "# Estructuras de datos: Listas\n",
        "\n"
      ]
    },
    {
      "cell_type": "markdown",
      "metadata": {
        "id": "99RwmBNvERIi"
      },
      "source": [
        "## Lista"
      ]
    },
    {
      "cell_type": "markdown",
      "metadata": {
        "id": "lSt0TS6Z4hla"
      },
      "source": [
        "La primera estructura de datos que veremos son las **listas**. Éstas son un conjunto de elementos ordenados separados por comas y escritos entre claudators, `[]`. \n",
        "\n",
        "Las listas son:\n",
        "- hetereogéneas: los elementos pueden ser de distinto tipo en una misma lista\n",
        "- mutables: los elementos pueden ser modificados\n",
        "\n",
        "Un ejemplo de lista sería"
      ]
    },
    {
      "cell_type": "code",
      "execution_count": 1,
      "metadata": {
        "colab": {
          "base_uri": "https://localhost:8080/"
        },
        "id": "4HVLotuzOY78",
        "outputId": "de699f98-ea24-40e3-e885-fbe65db2c5b8"
      },
      "outputs": [
        {
          "name": "stdout",
          "output_type": "stream",
          "text": [
            "['Juan', 31, 172.32, True]\n"
          ]
        }
      ],
      "source": [
        "l = [\"Juan\", 31, 172.32, True]\n",
        "print(l)"
      ]
    },
    {
      "cell_type": "code",
      "execution_count": 2,
      "metadata": {
        "colab": {
          "base_uri": "https://localhost:8080/"
        },
        "id": "oYyRU_ZtMOPD",
        "outputId": "196be624-7c2f-4e7a-8c7d-eedb4e0cd986"
      },
      "outputs": [
        {
          "data": {
            "text/plain": [
              "list"
            ]
          },
          "execution_count": 2,
          "metadata": {},
          "output_type": "execute_result"
        }
      ],
      "source": [
        "type(l)"
      ]
    },
    {
      "cell_type": "markdown",
      "metadata": {
        "id": "26Vo3ZIz4uFF"
      },
      "source": [
        "### Tamaño de una lista\n",
        "\n",
        "Para saber la longitud o el tamaño de una lista, podemos hacer uso de la función `len()`"
      ]
    },
    {
      "cell_type": "code",
      "execution_count": 2,
      "metadata": {
        "colab": {
          "base_uri": "https://localhost:8080/"
        },
        "id": "O2mrxwhT4wu6",
        "outputId": "8a0dbcca-1327-496f-96ac-071aa41bfeb2"
      },
      "outputs": [
        {
          "data": {
            "text/plain": [
              "9"
            ]
          },
          "execution_count": 2,
          "metadata": {},
          "output_type": "execute_result"
        }
      ],
      "source": [
        "l = [1, 2, 3, 4, 5, 6, 7, 8, 9]\n",
        "len(l)"
      ]
    },
    {
      "cell_type": "code",
      "execution_count": 3,
      "metadata": {
        "colab": {
          "base_uri": "https://localhost:8080/"
        },
        "id": "ztYXxTBQ5Afz",
        "outputId": "c6a1aafa-7eca-45f7-cc3a-507eb17ac7e7"
      },
      "outputs": [
        {
          "data": {
            "text/plain": [
              "4"
            ]
          },
          "execution_count": 3,
          "metadata": {},
          "output_type": "execute_result"
        }
      ],
      "source": [
        "l = [\"Zoe\", \"Pablo\", \"Miguel\", \"Silvia\"]\n",
        "len(l)"
      ]
    },
    {
      "cell_type": "markdown",
      "metadata": {
        "id": "-59Ypfhk422D"
      },
      "source": [
        "### Elementos de una lista\n",
        "\n",
        "Cada elemento en la lista tiene su propio índice"
      ]
    },
    {
      "cell_type": "code",
      "execution_count": 5,
      "metadata": {
        "id": "k4BlMHoY44Hd"
      },
      "outputs": [],
      "source": [
        "names = [\"Maria\", \"Juan\", \"Claudia\", \"Jorge\", \"Avelina\"]"
      ]
    },
    {
      "cell_type": "markdown",
      "metadata": {
        "id": "rejhVbhW5IEe"
      },
      "source": [
        "A `María` le corresponde el índice 0; a `Juan`, el 1; a `Claudia` el 2; a `Jorge`, el 3; y a `Avelina`, el 4.\n",
        "\n",
        "**¡Cuidado!** En `Python`, los índices siempre empiezan en 0. De este modo, al primer elemento le corresponde el índice 0; al segundo, el índice 1; y al $n$-ésimo, le corresponde el índice $n−1$."
      ]
    },
    {
      "cell_type": "markdown",
      "metadata": {
        "id": "O6g3DzOH5dBS"
      },
      "source": [
        "Dada una lista, podemos acceder a sus elementos utilizando la sintaxis `[]`."
      ]
    },
    {
      "cell_type": "code",
      "execution_count": 6,
      "metadata": {
        "colab": {
          "base_uri": "https://localhost:8080/"
        },
        "id": "MFoUruJ74zQm",
        "outputId": "67366170-8ee3-4414-a27c-cc16e32f90f3"
      },
      "outputs": [
        {
          "name": "stdout",
          "output_type": "stream",
          "text": [
            "Maria\n"
          ]
        }
      ],
      "source": [
        "print(names[0])"
      ]
    },
    {
      "cell_type": "code",
      "execution_count": 9,
      "metadata": {
        "colab": {
          "base_uri": "https://localhost:8080/"
        },
        "id": "QMyp3iEo5kLt",
        "outputId": "625bfd71-3bf9-4d39-8e65-700c94e4abe9"
      },
      "outputs": [
        {
          "name": "stdout",
          "output_type": "stream",
          "text": [
            "Jorge\n"
          ]
        }
      ],
      "source": [
        "print(names[3])"
      ]
    },
    {
      "cell_type": "markdown",
      "metadata": {
        "id": "_Hmr833q5nV8"
      },
      "source": [
        "**¡Cuidado!** Si dada una lista llamamos a un elemento cuyo índice no existe para dicha lista, `Python` automáticamente nos devolverá error.\n",
        "\n",
        "Podemos acceder a los últimos elementos de la lista haciendo uso de índices negativos."
      ]
    },
    {
      "cell_type": "code",
      "execution_count": 8,
      "metadata": {
        "colab": {
          "base_uri": "https://localhost:8080/"
        },
        "id": "AuiXLtRS54UV",
        "outputId": "9257cfc8-ef9d-4a9a-a7ab-9be39720c254"
      },
      "outputs": [
        {
          "name": "stdout",
          "output_type": "stream",
          "text": [
            "Avelina\n"
          ]
        }
      ],
      "source": [
        "print(names[-1]) # Último elemento"
      ]
    },
    {
      "cell_type": "code",
      "execution_count": null,
      "metadata": {
        "colab": {
          "base_uri": "https://localhost:8080/"
        },
        "id": "ieekkTel58C5",
        "outputId": "67b0d89c-07cc-4ac1-cffb-944f45ee24f1"
      },
      "outputs": [
        {
          "name": "stdout",
          "output_type": "stream",
          "text": [
            "Claudia\n"
          ]
        }
      ],
      "source": [
        "print(names[-3]) # Tercer elemento empezando por el final"
      ]
    },
    {
      "cell_type": "markdown",
      "metadata": {
        "id": "FJu56xVr6TW0"
      },
      "source": [
        "Si en vez de querer acceder a los elementos uno por uno estamos interesados en acceder a avarios elementos a la vez, podemos hacer uso de la función `:`"
      ]
    },
    {
      "cell_type": "code",
      "execution_count": 10,
      "metadata": {
        "colab": {
          "base_uri": "https://localhost:8080/"
        },
        "id": "-tuzXNRN6h-e",
        "outputId": "8234834e-4c86-4664-b98b-bcc86be304e6"
      },
      "outputs": [
        {
          "name": "stdout",
          "output_type": "stream",
          "text": [
            "['Claudia', 'Jorge']\n"
          ]
        }
      ],
      "source": [
        "print(names[2:4])"
      ]
    },
    {
      "cell_type": "code",
      "execution_count": null,
      "metadata": {
        "colab": {
          "base_uri": "https://localhost:8080/"
        },
        "id": "4lvqDEvB6iDp",
        "outputId": "09419155-caf9-48e8-9b10-8873ca1bf07b"
      },
      "outputs": [
        {
          "name": "stdout",
          "output_type": "stream",
          "text": [
            "['Maria', 'Juan', 'Claudia']\n"
          ]
        }
      ],
      "source": [
        "print(names[:3])"
      ]
    },
    {
      "cell_type": "code",
      "execution_count": null,
      "metadata": {
        "colab": {
          "base_uri": "https://localhost:8080/"
        },
        "id": "M3ZWPZCc6iJ1",
        "outputId": "7145f8ef-eb14-4010-8b6c-c597755943b2"
      },
      "outputs": [
        {
          "name": "stdout",
          "output_type": "stream",
          "text": [
            "['Jorge', 'Avelina']\n"
          ]
        }
      ],
      "source": [
        "print(names[3:])"
      ]
    },
    {
      "cell_type": "markdown",
      "metadata": {
        "id": "OixzsJEA6m7p"
      },
      "source": [
        "**Observación.** En cuanto a la función `:`\n",
        "\n",
        "- El índice indicado a la derecha de los `:` nunca es incluido\n",
        "- Si no indicamos elemento a la izquierda de los `:`, por defecto `Python` interpreta que se trata del 0\n",
        "- Si no indicamos elemento a la derecha, por defecto `Python`interpreta que debe mostrar los elemetos desde el índice indicado a la izquierda hasta el último."
      ]
    },
    {
      "cell_type": "markdown",
      "metadata": {
        "id": "nZoijkn77vl6"
      },
      "source": [
        "Además de acceder, podemos modificar los elementos de una lista"
      ]
    },
    {
      "cell_type": "code",
      "execution_count": 12,
      "metadata": {
        "colab": {
          "base_uri": "https://localhost:8080/"
        },
        "id": "GyKiA0yQ726D",
        "outputId": "d97fb8d6-d359-4b99-df3f-cb9dfc7e9d1a"
      },
      "outputs": [
        {
          "data": {
            "text/plain": [
              "['Marina', 'Juan', 'Claudia', 'Jaime', 'Avelina']"
            ]
          },
          "execution_count": 12,
          "metadata": {},
          "output_type": "execute_result"
        }
      ],
      "source": [
        "names[0] = \"Marina\"\n",
        "names[3] = \"Jaime\"\n",
        "names"
      ]
    },
    {
      "cell_type": "markdown",
      "metadata": {
        "id": "UZ2E_j4AEsWr"
      },
      "source": [
        "Podemos añadir nuevos elementos a una lista con el método `.append()`"
      ]
    },
    {
      "cell_type": "code",
      "execution_count": 14,
      "metadata": {
        "colab": {
          "base_uri": "https://localhost:8080/"
        },
        "id": "IZhfrnKTExxg",
        "outputId": "827be148-91a9-4b0b-824b-7ee3b4ff4e54"
      },
      "outputs": [
        {
          "name": "stdout",
          "output_type": "stream",
          "text": [
            "['María', 'Cristina', 'Juana']\n",
            "['María', 'Cristina', 'Juana', 'Andrea']\n",
            "['María', 'Cristina', 'Juana', 'Andrea', 'Ana']\n"
          ]
        }
      ],
      "source": [
        "names = [\"María\", \"Cristina\", \"Juana\"]\n",
        "print(names)\n",
        "\n",
        "names.append(\"Andrea\")\n",
        "print(names)\n",
        "names.append(\"Ana\")\n",
        "print(names)"
      ]
    },
    {
      "cell_type": "markdown",
      "metadata": {
        "id": "a1KziYptFBkG"
      },
      "source": [
        "**Observación.** Los elementos añadidos con el método `.append()`, se incluyen al final.\n",
        "\n",
        "Si quisiéramos añadir un nuevo elemento a una lista, pero no lo quisiéramos al final, sino en una posición específica, entonces utilizaremos el método `.insert()` al que primero le indicamos el índice donde queremos posicionar el nuevo elemento y, en segundo lugar, indicamos dicho nuevo elemento."
      ]
    },
    {
      "cell_type": "code",
      "execution_count": 4,
      "metadata": {
        "colab": {
          "base_uri": "https://localhost:8080/"
        },
        "id": "pKSfiqf9Fc9s",
        "outputId": "93c3a949-90cb-4e5f-ce78-a85b252c6253"
      },
      "outputs": [
        {
          "name": "stdout",
          "output_type": "stream",
          "text": [
            "['Mario', 'Cristian', 'Juan']\n",
            "['Mario', 'Andrés', 'Cristian', 'Juan']\n",
            "['Mario', 'Andrés', 'Cristian', 'Miguel', 'Juan']\n"
          ]
        }
      ],
      "source": [
        "names = [\"Mario\", \"Cristian\", \"Juan\"]\n",
        "print(names)\n",
        "\n",
        "names.insert(1, \"Andrés\")\n",
        "print(names)\n",
        "names.insert(3, \"Miguel\")\n",
        "print(names)"
      ]
    },
    {
      "cell_type": "markdown",
      "metadata": {
        "id": "N3cpnwNaFrYk"
      },
      "source": [
        "**Observación.** Cuando le indicamos que queremos el elemento `Andrés` en el índice 1, el que antes ocupaba dicho índice, `Cristian`, pasa a ocupar el siguiente, 2, y así con el resto de elementos que van a continuación."
      ]
    },
    {
      "cell_type": "markdown",
      "metadata": {
        "id": "EXg4xr8dP6_k"
      },
      "source": [
        "## Bucles con listas"
      ]
    },
    {
      "cell_type": "markdown",
      "metadata": {
        "id": "Jbblbwu_4tdD"
      },
      "source": [
        "Si quisiéramos imprimir por pantalla todos los elementos de una lista, lo podríamos hacer mediante los índices"
      ]
    },
    {
      "cell_type": "code",
      "execution_count": 6,
      "metadata": {
        "colab": {
          "base_uri": "https://localhost:8080/"
        },
        "id": "3n1Nz98vWbcY",
        "outputId": "b6fd8137-7b8b-44bb-bcb2-3b8fe2d20933"
      },
      "outputs": [
        {
          "name": "stdout",
          "output_type": "stream",
          "text": [
            "['Mario', 'Cristian', 'Juan']\n",
            "Mario\n",
            "Cristian\n",
            "Juan\n"
          ]
        }
      ],
      "source": [
        "names = [\"Mario\", \"Cristian\", \"Juan\"]\n",
        "print(names)\n",
        "\n",
        "for i in range(len(names)):\n",
        "  print(names[i])"
      ]
    },
    {
      "cell_type": "markdown",
      "metadata": {
        "id": "ESHFOO-7WbpB"
      },
      "source": [
        "o mucho más fácilmente iterando la lista con un `for` con la siguiente sintaxis:"
      ]
    },
    {
      "cell_type": "code",
      "execution_count": 7,
      "metadata": {
        "colab": {
          "base_uri": "https://localhost:8080/"
        },
        "id": "wruvYnQNP8Kv",
        "outputId": "003f6684-9be2-4834-fac3-84f6ebeb89d1"
      },
      "outputs": [
        {
          "name": "stdout",
          "output_type": "stream",
          "text": [
            "Mario\n",
            "Cristian\n",
            "Juan\n"
          ]
        }
      ],
      "source": [
        "for name in names:\n",
        "  print(name)"
      ]
    },
    {
      "cell_type": "markdown",
      "metadata": {
        "id": "gdQxVJST8QX9"
      },
      "source": [
        "## Concatenación de listas\n",
        "\n",
        "Dadas dos o más listas, podemos concatenarlas haciendo uso de la función `+`"
      ]
    },
    {
      "cell_type": "code",
      "execution_count": 8,
      "metadata": {
        "colab": {
          "base_uri": "https://localhost:8080/"
        },
        "id": "83r3edbB8oFY",
        "outputId": "d443a8ca-c699-4c19-e21c-efe1a5e79030"
      },
      "outputs": [
        {
          "name": "stdout",
          "output_type": "stream",
          "text": [
            "[True, 21, 'Marta', 22.5, False, 22, 'Rafa']\n"
          ]
        }
      ],
      "source": [
        "l1 = [True, 21, \"Marta\"]\n",
        "l2 = [22.5, False, 22, \"Rafa\"]\n",
        "print(l1 + l2)"
      ]
    },
    {
      "cell_type": "markdown",
      "metadata": {
        "id": "bTz0Bx-ZEGDX"
      },
      "source": [
        "## Repetición de listas\n",
        "\n",
        "Podemos repetir una misma lista tantas veces como queramos con la función `*`"
      ]
    },
    {
      "cell_type": "code",
      "execution_count": 10,
      "metadata": {
        "colab": {
          "base_uri": "https://localhost:8080/"
        },
        "id": "4gQpm_hx8rEi",
        "outputId": "638d5008-ea16-4343-bd1b-b44fdc8d1d16"
      },
      "outputs": [
        {
          "name": "stdout",
          "output_type": "stream",
          "text": [
            "['A', 'B', 'C', 'A', 'B', 'C', 'A', 'B', 'C', 'A', 'B', 'C', 'A', 'B', 'C']\n"
          ]
        }
      ],
      "source": [
        "abc = [\"A\", \"B\", \"C\"]\n",
        "print(abc * 5)"
      ]
    },
    {
      "cell_type": "markdown",
      "metadata": {
        "id": "72iZX4irVTdl"
      },
      "source": [
        "## Lista vacía"
      ]
    },
    {
      "cell_type": "code",
      "execution_count": 11,
      "metadata": {
        "colab": {
          "base_uri": "https://localhost:8080/"
        },
        "id": "pdu7ROw-VX33",
        "outputId": "35295214-4b9f-49cb-dd52-18f32d1dc57a"
      },
      "outputs": [
        {
          "name": "stdout",
          "output_type": "stream",
          "text": [
            "0\n"
          ]
        }
      ],
      "source": [
        "empty_list = []\n",
        "print(len(empty_list))"
      ]
    },
    {
      "cell_type": "markdown",
      "metadata": {
        "id": "ZX5xIkdQEZ1P"
      },
      "source": [
        "## Más métodos de listas\n",
        "\n",
        "El método `.count()` recibe un elemento como argumento y cuenta la cantidad de veces que aparece en la lista"
      ]
    },
    {
      "cell_type": "code",
      "execution_count": 13,
      "metadata": {
        "colab": {
          "base_uri": "https://localhost:8080/"
        },
        "id": "V6BBrZJpXo9L",
        "outputId": "82c41441-2483-462b-f700-f688dc3c5f64"
      },
      "outputs": [
        {
          "name": "stdout",
          "output_type": "stream",
          "text": [
            "El elemento 0 aparece 1 veces\n",
            "El elemento 1 aparece 2 veces\n",
            "El elemento 2 aparece 3 veces\n",
            "El elemento 3 aparece 4 veces\n"
          ]
        }
      ],
      "source": [
        "numbers = [0, 1, 1, 2, 2, 2, 3, 3, 3, 3]\n",
        "\n",
        "counted = []\n",
        "for element in numbers:\n",
        "  if element not in counted:\n",
        "    counted.append(element)\n",
        "    print(\"El elemento {} aparece {} veces\".format(element, numbers.count(element)))"
      ]
    },
    {
      "cell_type": "markdown",
      "metadata": {
        "id": "PMTNZySUYk6g"
      },
      "source": [
        "El método `.extend()` extiende la lista agregando al final el iterable indicado por parámetro."
      ]
    },
    {
      "cell_type": "code",
      "execution_count": null,
      "metadata": {
        "colab": {
          "base_uri": "https://localhost:8080/"
        },
        "id": "iRdOTIB3ZC4w",
        "outputId": "a58c78fa-fd91-4552-84a0-3fed2d83b296"
      },
      "outputs": [
        {
          "name": "stdout",
          "output_type": "stream",
          "text": [
            "[1, 2, 3, 4, 5]\n",
            "[1, 2, 3, 4, 5, 6]\n",
            "[1, 2, 3, 4, 5, 6, 7, 8]\n",
            "[1, 2, 3, 4, 5, 6, 7, 8, 9, 10, 11, 12, 13, 14, 15]\n"
          ]
        }
      ],
      "source": [
        "numbers = [1, 2, 3, 4, 5]\n",
        "print(numbers)\n",
        "numbers.extend([6])\n",
        "print(numbers)\n",
        "numbers.extend([7, 8])\n",
        "print(numbers)\n",
        "numbers.extend(range(9, 16))\n",
        "print(numbers)"
      ]
    },
    {
      "cell_type": "markdown",
      "metadata": {
        "id": "Kb-WKIJ6ZcTZ"
      },
      "source": [
        "**Observación.** Un iterable es un objeto de `Python` capaz de devolver sus elementos uno por uno, permitiendo ser iterado en un bucle for. De momento solo conocemos las listas y el resultado de `range()`, pero en secciones futuras veremos los diccionarios, las tuplas y los conjuntos, que también son objetos iterables.\n",
        "\n",
        "El método `index()` recibe un elemento como argumento y devuelve el índice de la primera aparición en la lista."
      ]
    },
    {
      "cell_type": "code",
      "execution_count": 18,
      "metadata": {
        "colab": {
          "base_uri": "https://localhost:8080/"
        },
        "id": "OPebO8hMaN4w",
        "outputId": "a5e794b1-90d7-4181-d08d-6668a30e91ed"
      },
      "outputs": [
        {
          "name": "stdout",
          "output_type": "stream",
          "text": [
            "3\n",
            "7\n"
          ]
        }
      ],
      "source": [
        "numbers = [0, 1, 1, 2, 2, 2, 3, 4, 3, 4]\n",
        "print(numbers.index(2))\n",
        "print(numbers.index(4)) "
      ]
    },
    {
      "cell_type": "markdown",
      "metadata": {
        "id": "W5h0i4apafso"
      },
      "source": [
        "El método `.pop()` devuelve el último elemento de la lista y lo borra de la misma."
      ]
    },
    {
      "cell_type": "code",
      "execution_count": 19,
      "metadata": {
        "colab": {
          "base_uri": "https://localhost:8080/"
        },
        "id": "p-oSH49mae7D",
        "outputId": "8e2d6c7a-c2cf-4e64-aa68-39dc6831c75f"
      },
      "outputs": [
        {
          "name": "stdout",
          "output_type": "stream",
          "text": [
            "[0, 1, 1, 2, 2, 2, 3, 4, 3, 4]\n",
            "4\n",
            "[0, 1, 1, 2, 2, 2, 3, 4, 3]\n",
            "3\n",
            "[0, 1, 1, 2, 2, 2, 3, 4]\n",
            "4\n",
            "[0, 1, 1, 2, 2, 2, 3]\n",
            "3\n",
            "[0, 1, 1, 2, 2, 2]\n",
            "2\n",
            "[0, 1, 1, 2, 2]\n"
          ]
        }
      ],
      "source": [
        "print(numbers)\n",
        "for i in range(5):\n",
        "    print(numbers.pop())\n",
        "    print(numbers)"
      ]
    },
    {
      "cell_type": "markdown",
      "metadata": {
        "id": "fexfWnIQasny"
      },
      "source": [
        "El método `.remove()` recibe como argumento un elemento y borra su primera aparición de la lista."
      ]
    },
    {
      "cell_type": "code",
      "execution_count": 21,
      "metadata": {
        "colab": {
          "base_uri": "https://localhost:8080/"
        },
        "id": "CYcjfVG8a0sS",
        "outputId": "da2af232-fe66-452b-fd97-716f883bc28f"
      },
      "outputs": [
        {
          "name": "stdout",
          "output_type": "stream",
          "text": [
            "[0, 1, 2, 3, 4, 5, 6, 7]\n"
          ]
        }
      ],
      "source": [
        "numbers = [0, 1, 2, 4, 3, 4, 5, 6, 7]\n",
        "numbers.remove(4)\n",
        "print(numbers)"
      ]
    },
    {
      "cell_type": "markdown",
      "metadata": {
        "id": "6pvVxrkMcF9M"
      },
      "source": [
        "El método `.reverse()` devuelve la lista en orden inverso."
      ]
    },
    {
      "cell_type": "code",
      "execution_count": null,
      "metadata": {
        "colab": {
          "base_uri": "https://localhost:8080/"
        },
        "id": "R-yDsN5jcO1F",
        "outputId": "bd41312d-39b7-4c01-afa9-09d2fe79fcc7"
      },
      "outputs": [
        {
          "name": "stdout",
          "output_type": "stream",
          "text": [
            "[-3, 3, -2, 2, -1, 1]\n"
          ]
        }
      ],
      "source": [
        "numbers = [1, -1, 2, -2, 3, -3]\n",
        "numbers.reverse()\n",
        "print(numbers)"
      ]
    },
    {
      "cell_type": "markdown",
      "metadata": {
        "id": "8okGin6-a-PB"
      },
      "source": [
        "El método `.sort()` devuelve la lista en orden. "
      ]
    },
    {
      "cell_type": "code",
      "execution_count": 23,
      "metadata": {
        "colab": {
          "base_uri": "https://localhost:8080/"
        },
        "id": "6oDSD0asbFEs",
        "outputId": "37715c9a-eaed-4782-af91-41d5e6b2f3b5"
      },
      "outputs": [
        {
          "name": "stdout",
          "output_type": "stream",
          "text": [
            "[1, 2, 3, 4, 5]\n"
          ]
        }
      ],
      "source": [
        "numbers = [1, 3, 5, 2, 4]\n",
        "numbers.sort()\n",
        "print(numbers)"
      ]
    },
    {
      "cell_type": "markdown",
      "metadata": {
        "id": "2NZMD1h7cWQh"
      },
      "source": [
        "Si quisiésemos ordenar los elementos en orden decreciente, podríamos hacer uso del parámetro `reverse` del método `.sort()`:"
      ]
    },
    {
      "cell_type": "code",
      "execution_count": 22,
      "metadata": {
        "colab": {
          "base_uri": "https://localhost:8080/"
        },
        "id": "v6YUOQyAcest",
        "outputId": "c4788e6f-bd8b-4c6a-acc6-456f2213596f"
      },
      "outputs": [
        {
          "name": "stdout",
          "output_type": "stream",
          "text": [
            "[5, 4, 3, 2, 1]\n"
          ]
        }
      ],
      "source": [
        "numbers = [1, 3, 5, 2, 4]\n",
        "numbers.sort(reverse = True)\n",
        "print(numbers)"
      ]
    },
    {
      "cell_type": "markdown",
      "metadata": {
        "id": "_sTGvp7ld62r"
      },
      "source": [
        "**Observación.**  De momento solo conocemos las listas y el resultado de `range()`, pero en secciones futuras veremos los diccionarios, las tuplas y los conjuntos, que también son objetos iterables."
      ]
    },
    {
      "cell_type": "markdown",
      "metadata": {
        "id": "F0npSr9wdVj5"
      },
      "source": [
        "## Conversión a listas\n",
        "\n",
        "Para convertir un objeto iterable de `Python` a lista, hay que usar la función `list()`"
      ]
    },
    {
      "cell_type": "code",
      "execution_count": 27,
      "metadata": {
        "colab": {
          "base_uri": "https://localhost:8080/"
        },
        "id": "08BIXna1ZVnr",
        "outputId": "caf5d637-b27b-4ab8-fad1-c68edbd829da"
      },
      "outputs": [
        {
          "name": "stdout",
          "output_type": "stream",
          "text": [
            "range(0, 100, 10)\n"
          ]
        }
      ],
      "source": [
        "print(range(0, 100, 10))"
      ]
    },
    {
      "cell_type": "code",
      "execution_count": 26,
      "metadata": {
        "colab": {
          "base_uri": "https://localhost:8080/"
        },
        "id": "slaFEV37db2I",
        "outputId": "ddf74e36-4734-4ee8-c9a4-281b3a9ffa68"
      },
      "outputs": [
        {
          "name": "stdout",
          "output_type": "stream",
          "text": [
            "<class 'range'>\n"
          ]
        }
      ],
      "source": [
        "print(type(range(0, 100, 10)))"
      ]
    },
    {
      "cell_type": "code",
      "execution_count": 28,
      "metadata": {
        "colab": {
          "base_uri": "https://localhost:8080/"
        },
        "id": "_90JWhxDd0gs",
        "outputId": "46e3a08f-1b20-4b33-bb04-aab55ef790a5"
      },
      "outputs": [
        {
          "name": "stdout",
          "output_type": "stream",
          "text": [
            "[0, 10, 20, 30, 40, 50, 60, 70, 80, 90]\n"
          ]
        }
      ],
      "source": [
        "print(list(range(0, 100, 10)))"
      ]
    },
    {
      "cell_type": "code",
      "execution_count": 30,
      "metadata": {
        "colab": {
          "base_uri": "https://localhost:8080/"
        },
        "id": "r1DeGBCjd1sr",
        "outputId": "68a282a0-940d-426d-a6b8-e45ac3af525f"
      },
      "outputs": [
        {
          "name": "stdout",
          "output_type": "stream",
          "text": [
            "<class 'list'>\n"
          ]
        }
      ],
      "source": [
        "print(type(list(range(0, 100, 10))))"
      ]
    },
    {
      "cell_type": "markdown",
      "metadata": {
        "id": "KNysQBHgF-s7"
      },
      "source": [
        "## Listas anidadas\n",
        "\n",
        "Las listas anidadas son listas dentro de listas. Es decir, las listas no solo pueden contener números, strings o datos booleanos, sino que también pueden contener otras listas.\n",
        "\n"
      ]
    },
    {
      "cell_type": "markdown",
      "metadata": {
        "id": "UfvSb4IQEXht"
      },
      "source": [
        "---\n",
        "\n",
        "#### Ejemplo 1\n",
        "\n",
        "A continuación mostramos una lista anidada, pues consta de 3 elementos:\n",
        "\n",
        "- 1 lista de 3 strings\n",
        "- 1 lista heterogénea de 3 elementos que a su vez contiene una lista con 5 números\n",
        "- 1 número"
      ]
    },
    {
      "cell_type": "code",
      "execution_count": 32,
      "metadata": {
        "colab": {
          "base_uri": "https://localhost:8080/"
        },
        "id": "vEonEcPaESU0",
        "outputId": "5fa741c8-3f70-4e54-9ac3-9c841a595da2"
      },
      "outputs": [
        {
          "name": "stdout",
          "output_type": "stream",
          "text": [
            "[['María', 'Santos', 'Fernández'], ['Juan', [1, 2, 3, 4, 5], 32], 2]\n"
          ]
        }
      ],
      "source": [
        "l = [[\"María\", \"Santos\", \"Fernández\"],\n",
        "     [\"Juan\", [1, 2, 3, 4, 5], 32], \n",
        "     2]\n",
        "print(l)"
      ]
    },
    {
      "cell_type": "markdown",
      "metadata": {
        "id": "hrPxgzKZGeFc"
      },
      "source": [
        "Para acceder a un elemento, necesitamos indicar su índice. Si un elemento está en una lista dentro de una lista dentro de una lista, en primer lugar indicamos el índice de la lista exterior dentro de `[]`; después, el índice de la siguiente lista más exterior también entre `[]`; y por último, el índice de la lista más interna, claramente también entre `[]`.\n",
        "\n",
        "Accedamos al string `Fernández`y luego al número `5`."
      ]
    },
    {
      "cell_type": "code",
      "execution_count": 33,
      "metadata": {
        "colab": {
          "base_uri": "https://localhost:8080/"
        },
        "id": "TeQmP8VqG5gL",
        "outputId": "57aa6792-70b6-4eba-a963-c973799f7e63"
      },
      "outputs": [
        {
          "name": "stdout",
          "output_type": "stream",
          "text": [
            "Fernández\n",
            "5\n"
          ]
        }
      ],
      "source": [
        "print(l[0][2]) # Fernández\n",
        "print(l[1][1][4]) # 5"
      ]
    },
    {
      "cell_type": "markdown",
      "metadata": {
        "id": "Z5904_6KHE-Q"
      },
      "source": [
        "---\n",
        "\n"
      ]
    },
    {
      "cell_type": "markdown",
      "metadata": {
        "id": "Q8JAvwURXhBu"
      },
      "source": [
        "### Matrices\n",
        "\n",
        "Hay un tipo muy utilizado de listas anidadas. Se caracteriza por ser una lista de $m$ listas, donde cada una de las listas tiene el mismo número de elementos, $n$. A este tipo de listas se les conoce como matrices."
      ]
    },
    {
      "cell_type": "code",
      "execution_count": 34,
      "metadata": {
        "id": "kI2VDe-OG_-v"
      },
      "outputs": [],
      "source": [
        "matrix = [[1, 2, 3], [4, 5, 6], [7, 8, 9]]"
      ]
    },
    {
      "cell_type": "markdown",
      "metadata": {
        "id": "CPkrI5lWHYLa"
      },
      "source": [
        "En matemáticas, las matrices se definen del siguiente modo.\n",
        "\n",
        "**Matriz.** Una matriz de dimensiones $m\\times n$ es una tabla formada por elementos dispuestos en $m$ filas y $n$ columnas de la forma\n",
        "\n",
        "$$A = \\begin{pmatrix}\n",
        "a_{11} & a_{12} & \\cdots & a_{1n}\\\\\n",
        "a_{21} & a_{22} & \\cdots & a_{2n}\\\\\n",
        "\\vdots & \\vdots & \\ddots & \\vdots\\\\\n",
        "a_{m1} & a_{m2} & \\cdots & a_{mn}\\end{pmatrix}$$\n",
        "\n",
        "Los elementos de la matriz se representan con doble subíndice, $a_{ij}$, donde el primero indica la fila a la que pertenece y, el segundo, la columna.\n",
        "\n",
        "Entonces, la matriz que hemos definido anteriormente"
      ]
    },
    {
      "cell_type": "code",
      "execution_count": 36,
      "metadata": {
        "colab": {
          "base_uri": "https://localhost:8080/"
        },
        "id": "P_t7V7W-IAha",
        "outputId": "4c0ca9a6-9c13-4ec8-b35c-7fd5f7e128f4"
      },
      "outputs": [
        {
          "data": {
            "text/plain": [
              "3"
            ]
          },
          "execution_count": 36,
          "metadata": {},
          "output_type": "execute_result"
        }
      ],
      "source": [
        "matrix\n",
        "matrix[0][2]"
      ]
    },
    {
      "cell_type": "markdown",
      "metadata": {
        "id": "njgnyZJPIELD"
      },
      "source": [
        "escrita en forma de tabla sería: `matrix` $= \\displaystyle\\begin{pmatrix} 1 & 2 & 3\\\\ 4 & 5 & 6\\\\ 7 & 8 & 9\\end{pmatrix}$\n",
        "\n",
        "Para acceder a los elementos de una matriz en `Python`, utilizamos la sintaxis `[][]`, donde primero indicamos la fila y, a continuación, la columna"
      ]
    },
    {
      "cell_type": "code",
      "execution_count": 37,
      "metadata": {
        "colab": {
          "base_uri": "https://localhost:8080/"
        },
        "id": "YP3icvA_IDXo",
        "outputId": "5b8c9c4d-8066-4d6f-8baa-fb185214baad"
      },
      "outputs": [
        {
          "data": {
            "text/plain": [
              "3"
            ]
          },
          "execution_count": 37,
          "metadata": {},
          "output_type": "execute_result"
        }
      ],
      "source": [
        "matrix[0][2]"
      ]
    },
    {
      "cell_type": "code",
      "execution_count": 38,
      "metadata": {
        "colab": {
          "base_uri": "https://localhost:8080/"
        },
        "id": "bSnuYtkuIcd3",
        "outputId": "b4155a45-68c4-4912-adb6-e206695816c7"
      },
      "outputs": [
        {
          "data": {
            "text/plain": [
              "5"
            ]
          },
          "execution_count": 38,
          "metadata": {},
          "output_type": "execute_result"
        }
      ],
      "source": [
        "matrix[1][1]"
      ]
    },
    {
      "cell_type": "code",
      "execution_count": 39,
      "metadata": {
        "colab": {
          "base_uri": "https://localhost:8080/"
        },
        "id": "xa09nH2pIerX",
        "outputId": "43fee54e-5955-4b81-921a-7589ea30f121"
      },
      "outputs": [
        {
          "data": {
            "text/plain": [
              "7"
            ]
          },
          "execution_count": 39,
          "metadata": {},
          "output_type": "execute_result"
        }
      ],
      "source": [
        "matrix[2][0]"
      ]
    },
    {
      "cell_type": "markdown",
      "metadata": {
        "id": "ChxHwop9IgkG"
      },
      "source": [
        "Podemos mostrar una matriz de `Python` en forma de tabla con un bucle `for`, del siguiente modo"
      ]
    },
    {
      "cell_type": "code",
      "execution_count": null,
      "metadata": {
        "colab": {
          "base_uri": "https://localhost:8080/"
        },
        "id": "36Q2L48gIpnE",
        "outputId": "55adc1ed-1182-42b1-bb31-e0e57c27947b"
      },
      "outputs": [
        {
          "name": "stdout",
          "output_type": "stream",
          "text": [
            "[1, 2, 3]\n",
            "[4, 5, 6]\n",
            "[7, 8, 9]\n"
          ]
        }
      ],
      "source": [
        "for row in matrix: # Accedemos a las filas de la matrix\n",
        "  print(row)"
      ]
    },
    {
      "cell_type": "markdown",
      "metadata": {
        "id": "vpO2WDTfIyc2"
      },
      "source": [
        "Si lo que queremos es mostrar todos los elementos de la matriz en columna, podemos utilizar dos bucles `for` anidados del siguiente modo:"
      ]
    },
    {
      "cell_type": "code",
      "execution_count": 40,
      "metadata": {
        "colab": {
          "base_uri": "https://localhost:8080/"
        },
        "id": "oO0jDxOHIu4d",
        "outputId": "118429e7-919c-4ac0-acde-706fc0a44245"
      },
      "outputs": [
        {
          "name": "stdout",
          "output_type": "stream",
          "text": [
            "1\n",
            "2\n",
            "3\n",
            "4\n",
            "5\n",
            "6\n",
            "7\n",
            "8\n",
            "9\n"
          ]
        }
      ],
      "source": [
        "for row in matrix: # Accedemos a las filas\n",
        "  for element in row: # Accedemos a los elementos de las filas\n",
        "    print(element)"
      ]
    },
    {
      "cell_type": "markdown",
      "metadata": {
        "id": "MtLwCY-WIxqi"
      },
      "source": [
        "Si lo que queremos es mostrar la matriz en forma de tabla, sin comas ni claudators por en medio, lo podemos hacer de dos formas:\n",
        "\n",
        "- Haciendo uso de las dimensiones de la matriz y, por tanto, de la función `range()`\n",
        "- Sin hacer uso de las dimensiones\n",
        "\n",
        "La primera forma sería:"
      ]
    },
    {
      "cell_type": "code",
      "execution_count": 45,
      "metadata": {
        "colab": {
          "base_uri": "https://localhost:8080/"
        },
        "id": "ugpwmF8mJEll",
        "outputId": "e53804a0-50ea-4dd0-971d-2a4fc675c8e5"
      },
      "outputs": [
        {
          "name": "stdout",
          "output_type": "stream",
          "text": [
            "1 2 3 \n",
            "4 5 6 \n",
            "7 8 9 \n"
          ]
        }
      ],
      "source": [
        "# m es el número de filas y n, el de columnas\n",
        "m = len(matrix)\n",
        "n = len(matrix[0])\n",
        "\n",
        "for i in range(m):\n",
        "  for j in range(n):\n",
        "    print(matrix[i][j], end = \" \")\n",
        "  print(\"\")"
      ]
    },
    {
      "cell_type": "markdown",
      "metadata": {
        "id": "YspTonxZJXOF"
      },
      "source": [
        "**Observación.**\n",
        "\n",
        "1. Como todas las filas tienen el mismo número de elementos, nos da igual si calculamos $n$ con la primera fila o con cualquier otra.\n",
        "2. Hemos hecho uso del parámetro `end` de la función `print()` para indicar si, en vez de un salto de línea como ocurre por defecto, queremos que suceda otra cosa inmediatamente después de ejecutar la función `print()`. En este caso, hemos indicado que queremos un espacio en blanco.\n",
        "\n",
        "Y la segunda forma, es la siguiente:"
      ]
    },
    {
      "cell_type": "code",
      "execution_count": 47,
      "metadata": {
        "colab": {
          "base_uri": "https://localhost:8080/"
        },
        "id": "SRLevLG7JV4t",
        "outputId": "433ba623-99bf-4e30-93b8-151113756f12"
      },
      "outputs": [
        {
          "name": "stdout",
          "output_type": "stream",
          "text": [
            "1 2 3 \n",
            "4 5 6 \n",
            "7 8 9 \n"
          ]
        }
      ],
      "source": [
        "for row in matrix:\n",
        "  for element in row:\n",
        "    print(element, end = \" \")\n",
        "  print(\"\")"
      ]
    },
    {
      "cell_type": "markdown",
      "metadata": {
        "id": "zKRQbs00Jy1X"
      },
      "source": [
        "#### Suma de matrices\n",
        "\n",
        "Para poder sumar dos matrices, necesitamos que tengan la misma dimensión. Entonces, dadas $A$ y $B$ dos matrices con dimensión $m\\times n$, su suma será una matriz de dimensión $m\\times n$ y sus elementos se obtienen del siguiente modo:\n",
        "\n",
        "$$\\begin{array}{lll}A + B &=& (a_{ij})_{m\\times n} + (b_{ij})_{m\\times n} = (a_{ij} + b_{ij})_{m\\times n}\\\\ \n",
        "&=&\\begin{pmatrix} \n",
        "a_{11} & a_{12} & \\cdots & a_{1n}\\\\\n",
        "a_{21} & a_{22} & \\cdots & a_{2n}\\\\\n",
        "\\vdots & \\vdots & \\ddots & \\vdots\\\\\n",
        "a_{m1} & a_{m2} & \\cdots & a_{mn}\\\\\n",
        "\\end{pmatrix} + \\begin{pmatrix} \n",
        "b_{11} &b_{12} & \\cdots &b_{1n}\\\\\n",
        "b_{21} &b_{22} & \\cdots &b_{2n}\\\\\n",
        "\\vdots & \\vdots & \\ddots & \\vdots\\\\\n",
        "b_{m1} &b_{m2} & \\cdots & b_{mn}\\\\\n",
        "\\end{pmatrix} = \\begin{pmatrix} \n",
        "a_{11} + b_{11} & a_{12} + b_{12} & \\cdots & a_{1n} + b_{1n}\\\\\n",
        "a_{21} + b_{21} & a_{22} + b_{22} & \\cdots & a_{2n} + b_{2n}\\\\\n",
        "\\vdots & \\vdots & \\ddots & \\vdots\\\\\n",
        "a_{m1} + b_{m1} & a_{m2} + b_{m2} & \\cdots & a_{mn} + b_{mn}\\\\\n",
        "\\end{pmatrix}\n",
        "\\end{array}$$"
      ]
    },
    {
      "cell_type": "markdown",
      "metadata": {
        "id": "HaqEUYirLBov"
      },
      "source": [
        "Dadas dos matrices con la misma dimensión, las podemos usar haciendo uso de bucles `for` anidados."
      ]
    },
    {
      "cell_type": "code",
      "execution_count": 48,
      "metadata": {
        "colab": {
          "base_uri": "https://localhost:8080/"
        },
        "id": "CPVOC2PqJvkU",
        "outputId": "1464e522-d914-4708-c12c-fd630a5d6534"
      },
      "outputs": [
        {
          "name": "stdout",
          "output_type": "stream",
          "text": [
            "[[0, -2, -3], [0, 3, 1], [-1, -1, -3]]\n"
          ]
        }
      ],
      "source": [
        "A = [[1, 0, -3], [2, 0, 1], [-1, -1, 0]]\n",
        "B = [[-1, -2, 0], [-2, 3, 0], [0, 0, -3]]\n",
        "\n",
        "m = len(A)\n",
        "n = len(A[0])\n",
        "\n",
        "if len(A) == len(B) and len(A[0]) == len(B[0]):\n",
        "  C = []\n",
        "\n",
        "  for i in range(m):\n",
        "    C.append([])\n",
        "    for j in range(n):\n",
        "      C[i].append(A[i][j] + B[i][j])\n",
        "\n",
        "  print(C)\n",
        "\n",
        "else:\n",
        "  print(\"No se puede realizar la suma, pues las dimensiones de las matrices no coinciden.\")"
      ]
    },
    {
      "cell_type": "markdown",
      "metadata": {
        "id": "tjj44r0oL6OV"
      },
      "source": [
        "El resultado de sumar las matrices $A$ y $B$ ha sido\n",
        "\n",
        "$$\\begin{pmatrix}\n",
        "1 & 0 & -3\\\\\n",
        "2 & 0 & 1\\\\\n",
        "-1 & -1 & 0\\end{pmatrix} + \\begin{pmatrix}\n",
        "-1 & -2 & 0\\\\\n",
        "-2 & -3 & 0\\\\\n",
        "0 & 0 & -3\\end{pmatrix} = \n",
        "\\begin{pmatrix}\n",
        "0 & -2 & -3\\\\\n",
        "0 & -3 & 1\\\\\n",
        "-1 & -1 & -3\\end{pmatrix}$$"
      ]
    },
    {
      "cell_type": "code",
      "execution_count": null,
      "metadata": {
        "colab": {
          "base_uri": "https://localhost:8080/"
        },
        "id": "6HetcCTyMW5i",
        "outputId": "d517b24b-c05b-412f-cf16-e6272f8fb1ff"
      },
      "outputs": [
        {
          "name": "stdout",
          "output_type": "stream",
          "text": [
            "[0, -2, -3]\n",
            "[0, 3, 1]\n",
            "[-1, -1, -3]\n"
          ]
        }
      ],
      "source": [
        "for row in C:\n",
        "  print(row)"
      ]
    },
    {
      "cell_type": "markdown",
      "metadata": {
        "id": "4EuKme0XPA8C"
      },
      "source": [
        "**Observación.** Hemos puesto un `if` que, suponiendo que tanto $A$ como $B$ son matrices, comprueba si sus dimensiones coinciden. De ser cierto, procede a hacer la suma. De lo contrario, devuelve un mensaje indicando que la suma no puede llevarse a cabo."
      ]
    },
    {
      "cell_type": "markdown",
      "metadata": {
        "id": "dAve890MMbWt"
      },
      "source": [
        "#### Producto de matrices\n",
        "\n",
        "Para poder multiplicar matrices, necesitamos que la matriz de la izquierda tenga el mismo número de columnas que número de filas tiene la matriz de la derecha. Entonces, dadas las matrices $A$ y $B$ de dimensiones $m\\times n$ y $n\\times p$ respectivamente, su producto será una matriz de dimensión $m\\times p$ y se obtiene del siguiente modo:\n",
        "\n",
        "$$\\begin{array}{lll}A\\cdot B &=& (a_{ij})_{m\\times n}\\cdot (b_{ij})_{n\\times p} = \\left(\\sum_{k = 1}^n a_{ik}\\cdot b_{kj}\\right)_{m\\times p}\\\\\n",
        "&=& \\begin{pmatrix} \n",
        "a_{11} & a_{12} & \\cdots & a_{1n}\\\\\n",
        "a_{21} & a_{22} & \\cdots & a_{2n}\\\\\n",
        "\\vdots & \\vdots & \\ddots & \\vdots\\\\\n",
        "a_{m1} & a_{m2} & \\cdots & a_{mn}\\\\\n",
        "\\end{pmatrix} \\cdot \\begin{pmatrix} \n",
        "b_{11} &b_{12} & \\cdots &b_{1p}\\\\\n",
        "b_{21} &b_{22} & \\cdots &b_{2p}\\\\\n",
        "\\vdots & \\vdots & \\ddots & \\vdots\\\\\n",
        "b_{n1} &b_{n2} & \\cdots & b_{np}\\\\\n",
        "\\end{pmatrix} = \\begin{pmatrix} \n",
        "a_{11}\\cdot b_{11} + a_{12} \\cdot b_{21} + \\cdots + a_{1n}\\cdot b_{n1} & \\sum_{k = 1}^n a_{1k}\\cdot b_{k2} & \\cdots & \\sum_{k = 1}^n a_{1k}\\cdot b_{kp}\\\\\n",
        "a_{21}\\cdot b_{11} + a_{22} \\cdot b_{21} + \\cdots + a_{2n}\\cdot b_{n1} & \\sum_{k = 1}^n a_{2k}\\cdot b_{k2} & \\cdots & \\sum_{k = 1}^n a_{2k}\\cdot b_{kp}\\\\\n",
        "\\vdots & \\vdots & \\ddots & \\vdots\\\\\n",
        "a_{m1}\\cdot b_{11} + a_{m2} \\cdot b_{21} + \\cdots + a_{mn}\\cdot b_{n1} & \\sum_{k = 1}^n a_{mk}\\cdot b_{k2} & \\cdots & \\sum_{k = 1}^n a_{mk}\\cdot b_{kp}\n",
        "\\end{pmatrix}\\end{array}$$\n",
        "\n",
        "Dadas dos matrices, la primera con el mismo número de columnas que filas tiene la segunda, podemos multiplicarlas del siguiente modo:"
      ]
    },
    {
      "cell_type": "code",
      "execution_count": null,
      "metadata": {
        "id": "lWadRaMZMY8N"
      },
      "outputs": [],
      "source": [
        "A = [[1, 0, -3, 2], [2, 0, 1, 1], [-1, 0, -1, 0]]\n",
        "B = [[-1, -2, 0], [-2, 3, 0], [0, 0, -3], [1, 1, -1]]\n",
        "\n",
        "m, n, p = len(A), len(B), len(B[0])\n",
        "\n",
        "C = []\n",
        "\n",
        "for i in range(m):\n",
        "  C.append([])\n",
        "  for j in range(p):\n",
        "    elemento = 0\n",
        "    for k in range(n):\n",
        "      elemento = elemento + A[i][k] * B[k][j]\n",
        "    C[i].append(elemento)"
      ]
    },
    {
      "cell_type": "markdown",
      "metadata": {
        "id": "FJRxj4g6PPLJ"
      },
      "source": [
        "El resultado de multiplicar las matrices $A$ y $B$ ha sido\n",
        "\n",
        "$$\\begin{array}{lll} A\\cdot B &=& \n",
        "\\begin{pmatrix}\n",
        "1 & 0 & -3 & 2\\\\\n",
        "2 & 0 & 1 & 1\\\\\n",
        "-1 & 0 & -1 & 0\n",
        "\\end{pmatrix}\\cdot\\begin{pmatrix}\n",
        "-1 & -2 & 0\\\\\n",
        "-2 & 3 & 0\\\\\n",
        "0 & 0 & -3\\\\\n",
        "1 & 1 & -1\n",
        "\\end{pmatrix}\\\\ &=& \\begin{pmatrix}\n",
        "1\\cdot (-1) + 0\\cdot (-2) -3\\cdot 0 + 2\\cdot 1 & 1\\cdot (-2) + 0\\cdot 3 -3\\cdot 0 + 2\\cdot 1 & 1\\cdot 0 + 0\\cdot 0 -3\\cdot (-3) + 2\\cdot (-1)\\\\\n",
        "2\\cdot (-1) + 0\\cdot (-2) + 1\\cdot 0 + 1\\cdot 1  & 2\\cdot (-2) + 0\\cdot 3 + 1\\cdot 0 + 1\\cdot 1 & 2\\cdot 0 + 0\\cdot 0 + 1\\cdot (-3) + 1\\cdot (-1)\\\\\n",
        "-1\\cdot (-1) + 0\\cdot (-2) -1\\cdot 0 + 0\\cdot 1  & -1\\cdot (-2) + 0\\cdot 3 -1\\cdot 0 + 0\\cdot 1 & -1\\cdot 0 + 0\\cdot 0 -1\\cdot (-3) + 0\\cdot (-1)\n",
        "\\end{pmatrix}\\\\ &=& \\begin{pmatrix}\n",
        "1 & 0 & 7\\\\\n",
        "-1 & -3 & -4\\\\\n",
        "1 & 2 & 3\n",
        "\\end{pmatrix}\n",
        "\\end{array}$$"
      ]
    },
    {
      "cell_type": "code",
      "execution_count": null,
      "metadata": {
        "colab": {
          "base_uri": "https://localhost:8080/"
        },
        "id": "OCNKGkKJO7yH",
        "outputId": "8fd12334-e7fc-4677-817c-97946a2aa97f"
      },
      "outputs": [
        {
          "name": "stdout",
          "output_type": "stream",
          "text": [
            "[1, 0, 7]\n",
            "[-1, -3, -4]\n",
            "[1, 2, 3]\n"
          ]
        }
      ],
      "source": [
        "for row in C:\n",
        "  print(row)"
      ]
    },
    {
      "cell_type": "markdown",
      "metadata": {
        "id": "hcBWsPtrRtz_"
      },
      "source": [
        "#### Matrices con `numpy`\n",
        "\n",
        "Existe una forma más sencilla de trabajar con matricdes y es gracias a la librería `numpy`. Para importarla, simplemente hay que ejecutar la siguiente línea de código."
      ]
    },
    {
      "cell_type": "code",
      "execution_count": 2,
      "metadata": {
        "id": "swT8X1uBRrdh"
      },
      "outputs": [],
      "source": [
        "import numpy as np"
      ]
    },
    {
      "cell_type": "markdown",
      "metadata": {
        "id": "eqlH-ugoR8JS"
      },
      "source": [
        "Para crear una matriz vacía, usamos el método `.empty()`, al que le indicamos por parámetro las dimensiones"
      ]
    },
    {
      "cell_type": "code",
      "execution_count": 20,
      "metadata": {
        "colab": {
          "base_uri": "https://localhost:8080/"
        },
        "id": "gIsX2YcVR6Dx",
        "outputId": "07c2c29d-0211-4af5-c9a2-bfc010943d84"
      },
      "outputs": [
        {
          "name": "stdout",
          "output_type": "stream",
          "text": [
            "[[-1428287817  1088027498]\n",
            " [-1461120065  1379811349]]\n"
          ]
        }
      ],
      "source": [
        "A = np.empty((2, 2), int) # 2 filas y 3 columnas\n",
        "print(A)"
      ]
    },
    {
      "cell_type": "markdown",
      "metadata": {
        "id": "o9dQBOK5Sc0a"
      },
      "source": [
        "Para crear una matriz vacía con las mismas dimensiones de otra matriz definida anteriormente, usamos el método `.empty_like()`, al que le indicamos por parámetro la matriz existente"
      ]
    },
    {
      "cell_type": "code",
      "execution_count": 28,
      "metadata": {
        "colab": {
          "base_uri": "https://localhost:8080/"
        },
        "id": "Wb7v1JLuSf7a",
        "outputId": "a8f59c42-2cbd-425e-c4de-284ab5a2b2a8"
      },
      "outputs": [
        {
          "name": "stdout",
          "output_type": "stream",
          "text": [
            "[[0 0 0 0]\n",
            " [0 0 0 0]\n",
            " [0 0 0 0]]\n"
          ]
        }
      ],
      "source": [
        "B = np.empty_like(A) # Tendrá 2 filas y 3 columnas\n",
        "print(B)"
      ]
    },
    {
      "cell_type": "markdown",
      "metadata": {
        "id": "xwc57rwpSFQ3"
      },
      "source": [
        "Para crear una matriz nula, usamos el método `.zeros()`, al que le indicamos por parámetro las dimensiones"
      ]
    },
    {
      "cell_type": "code",
      "execution_count": 27,
      "metadata": {
        "colab": {
          "base_uri": "https://localhost:8080/"
        },
        "id": "ekfw1NrcSKxl",
        "outputId": "8ed83d09-1b7e-4d83-aa78-16de3aff8844"
      },
      "outputs": [
        {
          "name": "stdout",
          "output_type": "stream",
          "text": [
            "[[0. 0. 0. 0. 0.]\n",
            " [0. 0. 0. 0. 0.]\n",
            " [0. 0. 0. 0. 0.]]\n"
          ]
        }
      ],
      "source": [
        "C = np.zeros((3, 5)) # Matriz nula de dimensiones 3 x 5\n",
        "print(C)"
      ]
    },
    {
      "cell_type": "markdown",
      "metadata": {
        "id": "JWzxUlQzSyIO"
      },
      "source": [
        "Para crear una matriz de ceros con las mismas dimensiones de otra matriz definida anteriormente, usamos el método `.zeros_like()`, al que le indicamos por parámetro la matriz existente"
      ]
    },
    {
      "cell_type": "code",
      "execution_count": null,
      "metadata": {
        "colab": {
          "base_uri": "https://localhost:8080/"
        },
        "id": "TUV3ZnvYS1jY",
        "outputId": "db6fcfe4-c1e0-4b95-f01b-94c13c4c5fd4"
      },
      "outputs": [
        {
          "name": "stdout",
          "output_type": "stream",
          "text": [
            "[[0. 0. 0.]\n",
            " [0. 0. 0.]]\n"
          ]
        }
      ],
      "source": [
        "D = np.zeros_like(A) # Tendrá 2 filas y 3 columnas y todos sus elementos valdrán 0\n",
        "print(D)"
      ]
    },
    {
      "cell_type": "markdown",
      "metadata": {
        "id": "7haYZRdKSPi9"
      },
      "source": [
        "Para crear una matriz de unos, usamos el método `.ones()`, al que le indicamos por parámetro las dimensiones"
      ]
    },
    {
      "cell_type": "code",
      "execution_count": 25,
      "metadata": {
        "colab": {
          "base_uri": "https://localhost:8080/"
        },
        "id": "YXaAqZuwSUrx",
        "outputId": "833e4ed9-ced7-4c9c-fb9e-b31f278e509b"
      },
      "outputs": [
        {
          "name": "stdout",
          "output_type": "stream",
          "text": [
            "[[1. 1. 1. 1.]]\n"
          ]
        }
      ],
      "source": [
        "E = np.ones((1, 4)) # Matriz de unos de dimensiones 1 x 4\n",
        "print(E)"
      ]
    },
    {
      "cell_type": "markdown",
      "metadata": {
        "id": "2LeaY1u6S8ba"
      },
      "source": [
        "Para crear una matriz de unos con las mismas dimensiones de otra matriz definida anteriormente, usamos el método `.ones_like()`, al que le indicamos por parámetro la matriz existente"
      ]
    },
    {
      "cell_type": "code",
      "execution_count": 26,
      "metadata": {
        "colab": {
          "base_uri": "https://localhost:8080/"
        },
        "id": "HtTV5qz4S-oL",
        "outputId": "1e031034-6d14-43c5-e337-3a5ff3a50613"
      },
      "outputs": [
        {
          "ename": "NameError",
          "evalue": "name 'C' is not defined",
          "output_type": "error",
          "traceback": [
            "\u001b[1;31m---------------------------------------------------------------------------\u001b[0m",
            "\u001b[1;31mNameError\u001b[0m                                 Traceback (most recent call last)",
            "\u001b[1;32m~\\AppData\\Local\\Temp/ipykernel_12380/1815615884.py\u001b[0m in \u001b[0;36m<module>\u001b[1;34m\u001b[0m\n\u001b[1;32m----> 1\u001b[1;33m \u001b[0mF\u001b[0m \u001b[1;33m=\u001b[0m \u001b[0mnp\u001b[0m\u001b[1;33m.\u001b[0m\u001b[0mones_like\u001b[0m\u001b[1;33m(\u001b[0m\u001b[0mC\u001b[0m\u001b[1;33m)\u001b[0m \u001b[1;31m# Tendrá 3 filas y 5 columnas y todos sus elementos valdrán 1\u001b[0m\u001b[1;33m\u001b[0m\u001b[1;33m\u001b[0m\u001b[0m\n\u001b[0m\u001b[0;32m      2\u001b[0m \u001b[0mprint\u001b[0m\u001b[1;33m(\u001b[0m\u001b[0mF\u001b[0m\u001b[1;33m)\u001b[0m\u001b[1;33m\u001b[0m\u001b[1;33m\u001b[0m\u001b[0m\n",
            "\u001b[1;31mNameError\u001b[0m: name 'C' is not defined"
          ]
        }
      ],
      "source": [
        "F = np.ones_like(C) # Tendrá 3 filas y 5 columnas y todos sus elementos valdrán 1\n",
        "print(F)"
      ]
    },
    {
      "cell_type": "markdown",
      "metadata": {
        "id": "CXnEZ8IjTI3b"
      },
      "source": [
        "Podemos crear matrices de numpy a partir de listas con el método `.matrix()`"
      ]
    },
    {
      "cell_type": "code",
      "execution_count": 34,
      "metadata": {
        "colab": {
          "base_uri": "https://localhost:8080/"
        },
        "id": "3_CFydSCTK1D",
        "outputId": "5b28d389-8b0f-4786-ae23-8e40a7b37309"
      },
      "outputs": [
        {
          "name": "stdout",
          "output_type": "stream",
          "text": [
            "[[ 1  0 -3  2]\n",
            " [ 2  0  1  1]\n",
            " [-1  0 -1  0]]\n",
            "[[  1   0  -3   2]\n",
            " [  2 200   1   1]\n",
            " [ -1   0  -1   0]]\n"
          ]
        }
      ],
      "source": [
        "M = np.matrix([[1, 0, -3, 2], [2, 0, 1, 1], [-1, 0, -1, 0]])\n",
        "print(M)\n",
        "M[1,1] = 200\n",
        "print(M)"
      ]
    },
    {
      "cell_type": "markdown",
      "metadata": {
        "id": "tyjMCu6VTRg1"
      },
      "source": [
        "Para saber las dimensiones de una matriz, podemos utilizar el método `.shape`\n"
      ]
    },
    {
      "cell_type": "code",
      "execution_count": 30,
      "metadata": {
        "colab": {
          "base_uri": "https://localhost:8080/"
        },
        "id": "BpvPosRCTTuM",
        "outputId": "6613ef7b-bde4-497c-a928-f681e03b99aa"
      },
      "outputs": [
        {
          "data": {
            "text/plain": [
              "(3, 4)"
            ]
          },
          "execution_count": 30,
          "metadata": {},
          "output_type": "execute_result"
        }
      ],
      "source": [
        "M.shape"
      ]
    },
    {
      "cell_type": "markdown",
      "metadata": {
        "id": "yWLRkzfTTUwo"
      },
      "source": [
        "Ahora es más sencillo sumar matrices, pues solamente necesitamos la función `+`"
      ]
    },
    {
      "cell_type": "code",
      "execution_count": 21,
      "metadata": {
        "colab": {
          "base_uri": "https://localhost:8080/"
        },
        "id": "UV5p5nLYTbuE",
        "outputId": "4a697d72-7059-4f89-ff46-e6d5c725375c"
      },
      "outputs": [
        {
          "data": {
            "text/plain": [
              "matrix([[ 0, -2, -3],\n",
              "        [ 0,  3,  1],\n",
              "        [-1, -1, -3]])"
            ]
          },
          "execution_count": 21,
          "metadata": {},
          "output_type": "execute_result"
        }
      ],
      "source": [
        "A = np.matrix([[1, 0, -3], [2, 0, 1], [-1, -1, 0]])\n",
        "B = np.matrix([[-1, -2, 0], [-2, 3, 0], [0, 0, -3]])\n",
        "matrixSum = A + B\n",
        "matrixSum"
      ]
    },
    {
      "cell_type": "markdown",
      "metadata": {
        "id": "27PGKvhLTbIs"
      },
      "source": [
        "También es más sencillo hacer el producto matricial $A\\cdot B$ con el método `.dot()`"
      ]
    },
    {
      "cell_type": "code",
      "execution_count": 22,
      "metadata": {
        "colab": {
          "base_uri": "https://localhost:8080/"
        },
        "id": "Z-erilyiToLZ",
        "outputId": "39ec8fd9-35e2-4d75-8f00-580e8d0fc51c"
      },
      "outputs": [
        {
          "data": {
            "text/plain": [
              "matrix([[ 1,  0,  7],\n",
              "        [-1, -3, -4],\n",
              "        [ 1,  2,  3]])"
            ]
          },
          "execution_count": 22,
          "metadata": {},
          "output_type": "execute_result"
        }
      ],
      "source": [
        "A = np.matrix([[1, 0, -3, 2], [2, 0, 1, 1], [-1, 0, -1, 0]])\n",
        "B = np.matrix([[-1, -2, 0], [-2, 3, 0], [0, 0, -3], [1, 1, -1]])\n",
        "\n",
        "matrixProd = A.dot(B)\n",
        "matrixProd"
      ]
    },
    {
      "cell_type": "markdown",
      "metadata": {
        "id": "iF_nqr6PT3-w"
      },
      "source": [
        "Gracias a `numpy`, también es mucho más sencillo mostrar una matriz en forma de tabla, pues nos basta con hacer uso de la función `print()`:"
      ]
    },
    {
      "cell_type": "code",
      "execution_count": 23,
      "metadata": {
        "colab": {
          "base_uri": "https://localhost:8080/"
        },
        "id": "KTp64b3gT23_",
        "outputId": "3b369351-376e-4702-eaca-69411c17c916"
      },
      "outputs": [
        {
          "name": "stdout",
          "output_type": "stream",
          "text": [
            "[[ 0 -2 -3]\n",
            " [ 0  3  1]\n",
            " [-1 -1 -3]]\n",
            "[[ 1  0  7]\n",
            " [-1 -3 -4]\n",
            " [ 1  2  3]]\n"
          ]
        }
      ],
      "source": [
        "print(matrixSum)\n",
        "print(matrixProd)"
      ]
    },
    {
      "cell_type": "markdown",
      "metadata": {
        "id": "xUF9unixUhqD"
      },
      "source": [
        "En futuras secciones hablaremos más detenidamente de todo lo que es capaz la librería `numpy`."
      ]
    }
  ],
  "metadata": {
    "colab": {
      "collapsed_sections": [],
      "name": "Tema06.ipynb",
      "provenance": []
    },
    "kernelspec": {
      "display_name": "Python 3",
      "name": "python3"
    },
    "language_info": {
      "codemirror_mode": {
        "name": "ipython",
        "version": 3
      },
      "file_extension": ".py",
      "mimetype": "text/x-python",
      "name": "python",
      "nbconvert_exporter": "python",
      "pygments_lexer": "ipython3",
      "version": "3.8.5"
    }
  },
  "nbformat": 4,
  "nbformat_minor": 0
}
