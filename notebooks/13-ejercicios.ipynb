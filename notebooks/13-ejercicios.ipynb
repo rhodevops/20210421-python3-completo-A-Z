{
 "cells": [
  {
   "cell_type": "markdown",
   "metadata": {},
   "source": [
    "# Ejercico 1\n",
    "\n",
    "Contar el número de vocales de un string con un bucle while"
   ]
  },
  {
   "cell_type": "code",
   "execution_count": 17,
   "metadata": {},
   "outputs": [
    {
     "name": "stdout",
     "output_type": "stream",
     "text": [
      "En total hay 10 vocales\n"
     ]
    }
   ],
   "source": [
    "s = \"Mi vecino tiene un perro\"\n",
    "s = s.lower()\n",
    "\n",
    "i = 0\n",
    "count = 0\n",
    "while i < len(s):\n",
    "    if s[i] == \"a\" or s[i] == \"e\" or s[i] == \"i\" or s[i] == \"o\" or s[i] == \"u\":\n",
    "        count += 1   \n",
    "    i += 1\n",
    "print(\"En total hay {} vocales\".format(count))"
   ]
  },
  {
   "cell_type": "markdown",
   "metadata": {},
   "source": [
    "# Ejercicio 2\n",
    "\n",
    "Dados dos números enteros, encontrar el primer número divisible por 2, 3 y 5 que se encuentre en el intervalo cerrado formado por los dos números iniciales."
   ]
  },
  {
   "cell_type": "code",
   "execution_count": 21,
   "metadata": {},
   "outputs": [
    {
     "name": "stdout",
     "output_type": "stream",
     "text": [
      "El número 1020 del intervalo (999,99999) es divible por 2, 3 y 5\n"
     ]
    }
   ],
   "source": [
    "a = int(input(\"Introduce el extemo izquierdo del intervalo: \"))\n",
    "b = int(input(\"Introduce el extemo dderecho del intervalo: \"))\n",
    "\n",
    "i = a\n",
    "existe = False\n",
    "\n",
    "while i <= b:\n",
    "    if i % 2 == 0 and i % 3 == 0 and i % 5 == 0:\n",
    "        existe = True\n",
    "        print(\"El número {} del intervalo ({},{}) es divible por 2, 3 y 5\".format(i,a,b))\n",
    "        break\n",
    "    i +=1\n",
    "if existe == False:\n",
    "    print(\"En el intervalo ({},{}) no hay ningún número divible por 2, 3 y 5\".format(a,b))\n",
    " "
   ]
  },
  {
   "cell_type": "markdown",
   "metadata": {},
   "source": [
    "# Ejercicio 3\n",
    "\n",
    "El usuario va a ir introduciendo número que debemos ir sumando. Cuando introduzca el número 0, el programa se termina."
   ]
  },
  {
   "cell_type": "code",
   "execution_count": 24,
   "metadata": {},
   "outputs": [
    {
     "name": "stdout",
     "output_type": "stream",
     "text": [
      "La suma total de todos los números introducidos es 207.26\n"
     ]
    }
   ],
   "source": [
    "n = 10\n",
    "sum = 0\n",
    "\n",
    "while n != 0:\n",
    "    n = float(input(\"Introduzca un número: \"))\n",
    "    sum = sum + n\n",
    "else:\n",
    "    print(\"La suma total de todos los números introducidos es\", sum)\n"
   ]
  },
  {
   "cell_type": "markdown",
   "metadata": {},
   "source": [
    "# Ejercicio 4\n",
    "\n",
    "Sea un abecedario circular. Se pide un número entero positivo (negativo) para realizar un rotación a la derecha (izquierda) tantas posiciones como indique el valor absoluto. Se utiliza la función `chr()` que nos da el código ASCCI (el número) del caracter. Los códigos del 65 al 90 se corresponden con las letras mayúsculas de la A a la Z."
   ]
  },
  {
   "cell_type": "code",
   "execution_count": 31,
   "metadata": {},
   "outputs": [
    {
     "name": "stdout",
     "output_type": "stream",
     "text": [
      "A:V\n",
      "B:W\n",
      "C:X\n",
      "D:Y\n",
      "E:Z\n",
      "F:A\n",
      "G:B\n",
      "H:C\n",
      "I:D\n",
      "J:E\n",
      "K:F\n",
      "L:G\n",
      "M:H\n",
      "N:I\n",
      "O:J\n",
      "P:K\n",
      "Q:L\n",
      "R:M\n",
      "S:N\n",
      "T:O\n",
      "U:P\n",
      "V:Q\n",
      "W:R\n",
      "X:S\n",
      "Y:T\n",
      "Z:U\n"
     ]
    }
   ],
   "source": [
    "n = int(input(\"Introduce una rotación: \"))\n",
    "i=65\n",
    "while i <= 90:\n",
    "    if 65 <= i + n <= 90:\n",
    "        print(chr(i) + \":\" + chr(i+n))\n",
    "    elif i + n > 90:\n",
    "        print(chr(i) + \":\" + chr(i+n-26))\n",
    "    elif i + n < 65:\n",
    "        print(chr(i) + \":\" + chr(i+n+26))\n",
    "    i += 1"
   ]
  },
  {
   "cell_type": "markdown",
   "metadata": {},
   "source": [
    "# Ejercicio 5\n",
    "\n",
    "Tenemos que imprimir un string al reves."
   ]
  },
  {
   "cell_type": "code",
   "execution_count": 33,
   "metadata": {},
   "outputs": [
    {
     "name": "stdout",
     "output_type": "stream",
     "text": [
      "orrep nu eneit onicev iM\n"
     ]
    }
   ],
   "source": [
    "s = \"Mi vecino tiene un perro\"\n",
    "s_inv = \"\"\n",
    "\n",
    "for c in s:\n",
    "    s_inv = c + s_inv\n",
    "\n",
    "print(s_inv)"
   ]
  },
  {
   "cell_type": "markdown",
   "metadata": {},
   "source": [
    "# Ejercicio 6\n",
    "\n",
    "Se pide una progresión aritmérica al usuario (primer término, diferencia, cota). Obtener la suma de sus términos."
   ]
  },
  {
   "cell_type": "code",
   "execution_count": 39,
   "metadata": {},
   "outputs": [
    {
     "name": "stdout",
     "output_type": "stream",
     "text": [
      "Piensa en una sucesión aritmética\n",
      "2 es el primer elemento de la sucesión\n",
      "5 es la diferencia de la sucesión\n",
      "8 es la cota de la sucesión\n",
      "La suma de los elementos de la sucesión es 9\n"
     ]
    }
   ],
   "source": [
    "print(\"Piensa en una sucesión aritmética\")\n",
    "\n",
    "n1 = int(input(\"Introduce el primer término de la sucesión: \"))\n",
    "print(\"{} es el primer elemento de la sucesión\".format(n1))\n",
    "\n",
    "d = int(input(\"Introduce la diferencia de la sucesión: \"))\n",
    "print(\"{} es la diferencia de la sucesión\".format(d))\n",
    "\n",
    "nf = int(input(\"Introduce la cota de la sucesión: \"))\n",
    "print(\"{} es la cota de la sucesión\".format(nf))\n",
    "\n",
    "sum = 0\n",
    "\n",
    "for n in range(n1,nf+1,d):\n",
    "    sum = sum + n\n",
    "else:\n",
    "    print(\"La suma de los elementos de la sucesión es {}\".format(sum))\n",
    "\n"
   ]
  },
  {
   "cell_type": "markdown",
   "metadata": {},
   "source": [
    "# Ejercicio 7\n",
    "\n",
    "Dado un string, el usuario introduce una letra y hay que imprimir el string con todas las letas excepto la introducida por el usuario."
   ]
  },
  {
   "cell_type": "code",
   "execution_count": 54,
   "metadata": {},
   "outputs": [
    {
     "name": "stdout",
     "output_type": "stream",
     "text": [
      "El string original es: El perro de San Roque no tiene rabo porque Ramón Ramiro se lo ha robado\n",
      "El peo de San oque no tiene abo poque amón amio se lo ha obado\n"
     ]
    }
   ],
   "source": [
    "s = \"El perro de San Roque no tiene rabo porque Ramón Ramiro se lo ha robado\"\n",
    "print(\"El string original es:\", s)\n",
    "l1 = input(\"Introduce una letra presente en la frase anterior: \")\n",
    "l1 = l1.lower() \n",
    "\n",
    "new_s = \"\"\n",
    "\n",
    "for l in s:\n",
    "    if l == l1 or l == l1.upper():\n",
    "        continue\n",
    "    new_s = new_s + l\n",
    "print(new_s)\n",
    "        "
   ]
  },
  {
   "cell_type": "markdown",
   "metadata": {},
   "source": [
    "# Ejercicio 8\n",
    "\n",
    "Utilizar un bucle for. Dado un string, vamos a imprimirlo sin vocables y salir del bucle utilizado si la letra que indique el usuario aparece más de un número de veces dado por el usuario. "
   ]
  },
  {
   "cell_type": "code",
   "execution_count": 82,
   "metadata": {},
   "outputs": [
    {
     "name": "stdout",
     "output_type": "stream",
     "text": [
      "El string original es: Pensamos demasiado y sentimos muy poco\n",
      "Número máximo de letras <p> alcanzado: 2\n",
      "Pnsms dmsd y sntms my p\n"
     ]
    }
   ],
   "source": [
    "s = \"Pensamos demasiado y sentimos muy poco\"\n",
    "print(\"El string original es:\", s)\n",
    "\n",
    "l = input(\"Introduce una letra presente en la frase anterior: \")\n",
    "l = l.lower() \n",
    "\n",
    "n = int(input(\"Introduce el número de veces que debe salir la letra anterior para cortar el string original: \"))\n",
    "\n",
    "new_s = \"\"\n",
    "count = 0\n",
    "max = False\n",
    "\n",
    "for c in s:\n",
    "    if count >= n:\n",
    "        print(\"Número máximo de letras <{}> alcanzado: {}\".format(l,n))\n",
    "        max = True\n",
    "        break\n",
    "    if c == l or c == l.upper() :\n",
    "        count += 1\n",
    "    if c == \"a\" or c == \"e\" or c == \"i\" or c == \"o\" or c == \"u\":\n",
    "        continue\n",
    "    new_s = new_s + c\n",
    "\n",
    "if max == False:\n",
    "    print(\"Número máximo de letras <{}> no alcanzado: {}<{}\".format(l,count,n))\n",
    "\n",
    "print(new_s)"
   ]
  },
  {
   "cell_type": "markdown",
   "metadata": {},
   "source": [
    "# Tarea"
   ]
  },
  {
   "cell_type": "code",
   "execution_count": 84,
   "metadata": {},
   "outputs": [
    {
     "name": "stdout",
     "output_type": "stream",
     "text": [
      "0 es un número par\n"
     ]
    }
   ],
   "source": [
    "# Ejercicio 1\n",
    "\n",
    "n = 10\n",
    "\n",
    "while n != 0:\n",
    "    n = int(input(\"Introduce un número entero: \"))\n",
    "    print(\"{} es un número par\".format(n)) if n % 2 == 0 else print(\"{} no es un número par\".format(n))\n",
    "    "
   ]
  },
  {
   "cell_type": "code",
   "execution_count": 91,
   "metadata": {},
   "outputs": [
    {
     "name": "stdout",
     "output_type": "stream",
     "text": [
      "La letra <h> está contenida en <Hola>\n"
     ]
    }
   ],
   "source": [
    "# Ejercicio 2\n",
    "\n",
    "s = input(\"Introduce una palabra: \")\n",
    "letter = input(\"Introduce una letra: \")\n",
    "letter.lower()\n",
    "\n",
    "letter_in_word = False\n",
    "\n",
    "for c in s:\n",
    "    if c == letter or c == letter.upper():\n",
    "        print(\"La letra <{}> está contenida en <{}>\".format(letter,s))\n",
    "        letter_in_word  = True\n",
    "        break\n",
    "\n",
    "if letter_in_word  == False: \n",
    "    print(\"La letra <{}> no está contenida en <{}>\".format(letter,s))"
   ]
  },
  {
   "cell_type": "code",
   "execution_count": 97,
   "metadata": {},
   "outputs": [
    {
     "name": "stdout",
     "output_type": "stream",
     "text": [
      "-200\n",
      "El presupuesto total es de 0 euros\n"
     ]
    }
   ],
   "source": [
    "# Ejercicio 3\n",
    "\n",
    "sum = 0\n",
    "\n",
    "while sum < 200:\n",
    "    n = int(input(\"Introduce un precio: \"))\n",
    "    sum = sum + n    \n",
    "    if n == 0:\n",
    "        break\n",
    "\n",
    "excess = sum - 200\n",
    "print(excess)\n",
    "\n",
    "if excess < 0:\n",
    "    print(\"El presupuesto total es de {} euros\".format(sum))\n",
    "else:\n",
    "    print(\"El presupuesto total es de {} euros. Debes reducirlo {} euros\".format(sum,excess))\n"
   ]
  },
  {
   "cell_type": "code",
   "execution_count": 104,
   "metadata": {},
   "outputs": [
    {
     "name": "stdout",
     "output_type": "stream",
     "text": [
      "Usted ha introducido 1 números positivos y 0 negativos\n"
     ]
    }
   ],
   "source": [
    "# Ejercicio 4   \n",
    "\n",
    "n = 10\n",
    "pos = 0\n",
    "neg = 0\n",
    "\n",
    "while n != 0:\n",
    "    n = int(input(\"Introduce un número entero: \"))\n",
    "    if n > 0:\n",
    "        pos += 1 \n",
    "    elif n < 0:\n",
    "        neg += 1\n",
    "\n",
    "print(\"Usted ha introducido {} números positivos y {} negativos\".format(pos,neg)) \n",
    "    "
   ]
  },
  {
   "cell_type": "code",
   "execution_count": 131,
   "metadata": {},
   "outputs": [
    {
     "name": "stdout",
     "output_type": "stream",
     "text": [
      "*                     * * * * * * * * * * \n",
      "* *                   * * * * * * * * * * \n",
      "* * *                 * * * * * * * * * * \n",
      "* * * *               * * * * * * * * * * \n",
      "* * * * *             * * * * * * * * * * \n",
      "* * * * * *           * * * * * * * * * * \n",
      "* * * * * * *         * * * * * * * * * * \n",
      "* * * * * * * *       * * * * * * * * * * \n",
      "* * * * * * * * *     * * * * * * * * * * \n",
      "* * * * * * * * * *   * * * * * * * * * * \n"
     ]
    }
   ],
   "source": [
    "# Ejercicio 10\n",
    "\n",
    "n = int(input(\"Introduce un número entero: \"))\n",
    "\n",
    "for c in range(1,n+1):\n",
    "    print(\"* \"*c,\"  \"*(n-c) ,\"* \"*n)\n"
   ]
  }
 ],
 "metadata": {
  "interpreter": {
   "hash": "b3ba2566441a7c06988d0923437866b63cedc61552a5af99d1f4fb67d367b25f"
  },
  "kernelspec": {
   "display_name": "Python 3.8.5 64-bit ('base': conda)",
   "language": "python",
   "name": "python3"
  },
  "language_info": {
   "codemirror_mode": {
    "name": "ipython",
    "version": 3
   },
   "file_extension": ".py",
   "mimetype": "text/x-python",
   "name": "python",
   "nbconvert_exporter": "python",
   "pygments_lexer": "ipython3",
   "version": "3.8.5"
  },
  "orig_nbformat": 4
 },
 "nbformat": 4,
 "nbformat_minor": 2
}
