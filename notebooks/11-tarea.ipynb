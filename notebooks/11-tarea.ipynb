{
  "cells": [
    {
      "cell_type": "markdown",
      "metadata": {
        "id": "7-w9Es5sktLa"
      },
      "source": [
        "# Filtrando solicitudes\n",
        "\n",
        "Pyratilla hizo un formulario para que los interesados en formar parte de su tripulación rellenaran y así poder evitarse más de una entrevista innecesaria.\n",
        "\n",
        "Ahora es momento de filtrar las convocatorias:\n",
        "\n",
        "- El nombre debe empezar por mayúscula. Si es un nombre compuesto, entonces todos deben empezar por mayúscula.\n",
        "- La edad debe ser mayor o igual a 16 y menor o igual a 40.\n",
        "- El hobby indicado debe tener más de 10 caracteres.\n",
        "- La casilla del sueño no puede haber sido dejada en blanco.\n",
        "\n",
        "Ayuda a Pyratilla a crear este filtro para descartar solicitudes que no cumplan estos requisitos."
      ]
    },
    {
      "cell_type": "code",
      "execution_count": 3,
      "metadata": {
        "id": "4aq25-Qrktd8"
      },
      "outputs": [
        {
          "name": "stdout",
          "output_type": "stream",
          "text": [
            "FORMULARIO PARA ACCEDE A LA TRIPULACIÓN\n",
            "Lo siento, no cumples los requisitos de edad\n"
          ]
        }
      ],
      "source": [
        "print(\"Formulario para acceder a la tripulación\".upper())\n",
        "\n",
        "name = input(\"Introduce tu nombre: \")\n",
        "name = name.title()\n",
        "\n",
        "age = int(input(\"Introduce tu edad: \"))\n",
        "if age < 16 or age >= 40:\n",
        "    print(\"Lo siento, no cumples los requisitos de edad\")\n",
        "else:\n",
        "    hobby = input(\"Introduce tu hobby principal: \")\n",
        "    if len(hobby) <= 10:\n",
        "        print(\"Lo siento, no cumples los requisitos\")\n",
        "    else:\n",
        "        dream = input(\"Introduce tu mayor sueño: \")\n",
        "        if dream.isspace() == True:\n",
        "            print(\"Lo siento, sin sueños te quedas en tierra\")\n",
        "        else:\n",
        "            print(\"Enhorabuena {}, ya eres un miembro de la tripulación\".format(name))\n",
        "\n"
      ]
    }
  ],
  "metadata": {
    "colab": {
      "collapsed_sections": [],
      "name": "04-entrada.ipynb",
      "provenance": []
    },
    "kernelspec": {
      "display_name": "Python 3",
      "name": "python3"
    },
    "language_info": {
      "codemirror_mode": {
        "name": "ipython",
        "version": 3
      },
      "file_extension": ".py",
      "mimetype": "text/x-python",
      "name": "python",
      "nbconvert_exporter": "python",
      "pygments_lexer": "ipython3",
      "version": "3.8.5"
    }
  },
  "nbformat": 4,
  "nbformat_minor": 0
}
